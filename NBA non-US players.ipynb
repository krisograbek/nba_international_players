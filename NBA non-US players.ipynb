{
 "cells": [
  {
   "cell_type": "markdown",
   "metadata": {},
   "source": [
    "# Introduction\n",
    "\n",
    "The goal of this project is to visualise, how the impact of Players born NOT in USA has changed over the years. \n",
    "\n",
    "This project uses a kaggle datasets: https://www.kaggle.com/drgilermo/nba-players-stats. We can find 3 .csv files there. Seasons_stats.csv contains stats from every NBA player each season since 1949/1950. Two other files contain some basic informations about each player such as: name, birthdate, height, etc.\n",
    "The list of international Players comes from Wikipedia: https://en.wikipedia.org/wiki/List_of_foreign_NBA_players\n",
    "\n",
    "Important note: There is a lot of data that is missing, because not every stat is available since the first season. More details and explaination of each stat: https://www.basketball-reference.com/about/glossary.html"
   ]
  },
  {
   "cell_type": "markdown",
   "metadata": {},
   "source": [
    "### Imports\n",
    "Import libraries."
   ]
  },
  {
   "cell_type": "code",
   "execution_count": 1,
   "metadata": {},
   "outputs": [
    {
     "data": {
      "text/html": [
       "        <script type=\"text/javascript\">\n",
       "        window.PlotlyConfig = {MathJaxConfig: 'local'};\n",
       "        if (window.MathJax) {MathJax.Hub.Config({SVG: {font: \"STIX-Web\"}});}\n",
       "        if (typeof require !== 'undefined') {\n",
       "        require.undef(\"plotly\");\n",
       "        requirejs.config({\n",
       "            paths: {\n",
       "                'plotly': ['https://cdn.plot.ly/plotly-latest.min']\n",
       "            }\n",
       "        });\n",
       "        require(['plotly'], function(Plotly) {\n",
       "            window._Plotly = Plotly;\n",
       "        });\n",
       "        }\n",
       "        </script>\n",
       "        "
      ]
     },
     "metadata": {},
     "output_type": "display_data"
    },
    {
     "data": {
      "text/html": [
       "        <script type=\"text/javascript\">\n",
       "        window.PlotlyConfig = {MathJaxConfig: 'local'};\n",
       "        if (window.MathJax) {MathJax.Hub.Config({SVG: {font: \"STIX-Web\"}});}\n",
       "        if (typeof require !== 'undefined') {\n",
       "        require.undef(\"plotly\");\n",
       "        requirejs.config({\n",
       "            paths: {\n",
       "                'plotly': ['https://cdn.plot.ly/plotly-latest.min']\n",
       "            }\n",
       "        });\n",
       "        require(['plotly'], function(Plotly) {\n",
       "            window._Plotly = Plotly;\n",
       "        });\n",
       "        }\n",
       "        </script>\n",
       "        "
      ]
     },
     "metadata": {},
     "output_type": "display_data"
    }
   ],
   "source": [
    "# Data manipulation\n",
    "import pandas as pd\n",
    "import numpy as np\n",
    "\n",
    "# Options for pandas\n",
    "pd.options.display.max_columns = 50\n",
    "pd.options.display.max_rows = 30\n",
    "\n",
    "# Display all cell outputs\n",
    "from IPython.core.interactiveshell import InteractiveShell\n",
    "InteractiveShell.ast_node_interactivity = 'all'\n",
    "\n",
    "from IPython import get_ipython\n",
    "ipython = get_ipython()\n",
    "\n",
    "# autoreload extension\n",
    "if 'autoreload' not in ipython.extension_manager.loaded:\n",
    "    %load_ext autoreload\n",
    "\n",
    "%autoreload 2\n",
    "\n",
    "# Visualizations\n",
    "import plotly.plotly as py\n",
    "import plotly.graph_objs as go\n",
    "from plotly.offline import iplot, init_notebook_mode\n",
    "init_notebook_mode(connected=True)\n",
    "\n",
    "import cufflinks as cf\n",
    "cf.go_offline(connected=True)\n",
    "cf.set_config_file(theme='white')"
   ]
  },
  {
   "cell_type": "markdown",
   "metadata": {},
   "source": [
    "# Analysis/Modeling\n",
    "### Import statistics"
   ]
  },
  {
   "cell_type": "code",
   "execution_count": 2,
   "metadata": {},
   "outputs": [],
   "source": [
    "stat = pd.read_csv('Seasons_Stats.csv')"
   ]
  },
  {
   "cell_type": "markdown",
   "metadata": {},
   "source": [
    "### Basic info"
   ]
  },
  {
   "cell_type": "code",
   "execution_count": 3,
   "metadata": {},
   "outputs": [
    {
     "data": {
      "text/plain": [
       "(24691, 53)"
      ]
     },
     "execution_count": 3,
     "metadata": {},
     "output_type": "execute_result"
    },
    {
     "data": {
      "text/plain": [
       "Unnamed: 0      int64\n",
       "Year          float64\n",
       "Player         object\n",
       "Pos            object\n",
       "Age           float64\n",
       "Tm             object\n",
       "G             float64\n",
       "GS            float64\n",
       "MP            float64\n",
       "PER           float64\n",
       "TS%           float64\n",
       "3PAr          float64\n",
       "FTr           float64\n",
       "ORB%          float64\n",
       "DRB%          float64\n",
       "               ...   \n",
       "2PA           float64\n",
       "2P%           float64\n",
       "eFG%          float64\n",
       "FT            float64\n",
       "FTA           float64\n",
       "FT%           float64\n",
       "ORB           float64\n",
       "DRB           float64\n",
       "TRB           float64\n",
       "AST           float64\n",
       "STL           float64\n",
       "BLK           float64\n",
       "TOV           float64\n",
       "PF            float64\n",
       "PTS           float64\n",
       "Length: 53, dtype: object"
      ]
     },
     "execution_count": 3,
     "metadata": {},
     "output_type": "execute_result"
    }
   ],
   "source": [
    "stat.shape\n",
    "stat.dtypes"
   ]
  },
  {
   "cell_type": "markdown",
   "metadata": {},
   "source": [
    "### Cleaning"
   ]
  },
  {
   "cell_type": "code",
   "execution_count": 4,
   "metadata": {},
   "outputs": [
    {
     "data": {
      "text/plain": [
       "Unnamed: 0       0\n",
       "Year            67\n",
       "Player          67\n",
       "Pos             67\n",
       "Age             75\n",
       "Tm              67\n",
       "G               67\n",
       "GS            6458\n",
       "MP             553\n",
       "PER            590\n",
       "TS%            153\n",
       "3PAr          5852\n",
       "FTr            166\n",
       "ORB%          3899\n",
       "DRB%          3899\n",
       "              ... \n",
       "2PA             67\n",
       "2P%            195\n",
       "eFG%           166\n",
       "FT              67\n",
       "FTA             67\n",
       "FT%            925\n",
       "ORB           3894\n",
       "DRB           3894\n",
       "TRB            379\n",
       "AST             67\n",
       "STL           3894\n",
       "BLK           3894\n",
       "TOV           5046\n",
       "PF              67\n",
       "PTS             67\n",
       "Length: 53, dtype: int64"
      ]
     },
     "execution_count": 4,
     "metadata": {},
     "output_type": "execute_result"
    }
   ],
   "source": [
    "stat.isna().sum()"
   ]
  },
  {
   "cell_type": "markdown",
   "metadata": {},
   "source": [
    "Dropping rows where Player is NaN\n",
    "\n",
    "TODO: Do I have to explain it?"
   ]
  },
  {
   "cell_type": "code",
   "execution_count": 5,
   "metadata": {},
   "outputs": [],
   "source": [
    "stat = stat.dropna(subset=['Player'])"
   ]
  },
  {
   "cell_type": "markdown",
   "metadata": {},
   "source": [
    "Dropping two columns with no values\n",
    "\n",
    "TODO: Do I have to explain, how do I know that or should I proove it?"
   ]
  },
  {
   "cell_type": "code",
   "execution_count": 6,
   "metadata": {},
   "outputs": [],
   "source": [
    "stat = stat.drop(['blanl', 'blank2'], axis=1)"
   ]
  },
  {
   "cell_type": "markdown",
   "metadata": {},
   "source": [
    "## Import the list of all time international players\n",
    "\n",
    "Source: https://en.wikipedia.org/wiki/List_of_foreign_NBA_players"
   ]
  },
  {
   "cell_type": "code",
   "execution_count": 7,
   "metadata": {},
   "outputs": [],
   "source": [
    "intp = pd.read_csv('international.csv')"
   ]
  },
  {
   "cell_type": "code",
   "execution_count": 8,
   "metadata": {},
   "outputs": [
    {
     "data": {
      "text/plain": [
       "(698, 8)"
      ]
     },
     "execution_count": 8,
     "metadata": {},
     "output_type": "execute_result"
    },
    {
     "data": {
      "text/plain": [
       "Nationality[A]      object\n",
       "Birthplace[B]       object\n",
       "Player              object\n",
       "Pos.                object\n",
       "Career[C]           object\n",
       "Yrs                float64\n",
       "Notes               object\n",
       "Ref.                object\n",
       "dtype: object"
      ]
     },
     "execution_count": 8,
     "metadata": {},
     "output_type": "execute_result"
    }
   ],
   "source": [
    "intp.shape\n",
    "intp.dtypes"
   ]
  },
  {
   "cell_type": "code",
   "execution_count": 9,
   "metadata": {},
   "outputs": [
    {
     "data": {
      "text/html": [
       "<div>\n",
       "<style scoped>\n",
       "    .dataframe tbody tr th:only-of-type {\n",
       "        vertical-align: middle;\n",
       "    }\n",
       "\n",
       "    .dataframe tbody tr th {\n",
       "        vertical-align: top;\n",
       "    }\n",
       "\n",
       "    .dataframe thead th {\n",
       "        text-align: right;\n",
       "    }\n",
       "</style>\n",
       "<table border=\"1\" class=\"dataframe\">\n",
       "  <thead>\n",
       "    <tr style=\"text-align: right;\">\n",
       "      <th></th>\n",
       "      <th>Nationality[A]</th>\n",
       "      <th>Birthplace[B]</th>\n",
       "      <th>Player</th>\n",
       "      <th>Pos.</th>\n",
       "      <th>Career[C]</th>\n",
       "      <th>Yrs</th>\n",
       "      <th>Notes</th>\n",
       "      <th>Ref.</th>\n",
       "    </tr>\n",
       "  </thead>\n",
       "  <tbody>\n",
       "    <tr>\n",
       "      <th>680</th>\n",
       "      <td>United States</td>\n",
       "      <td>Sweden</td>\n",
       "      <td>Miles Simon</td>\n",
       "      <td>G</td>\n",
       "      <td>1998–1999</td>\n",
       "      <td>1.0</td>\n",
       "      <td>Born in Sweden to an American father and a Nor...</td>\n",
       "      <td>[664]</td>\n",
       "    </tr>\n",
       "    <tr>\n",
       "      <th>239</th>\n",
       "      <td>France</td>\n",
       "      <td>—</td>\n",
       "      <td>Pape Sy</td>\n",
       "      <td>F/G</td>\n",
       "      <td>2010–2011</td>\n",
       "      <td>1.0</td>\n",
       "      <td>—</td>\n",
       "      <td>[249]</td>\n",
       "    </tr>\n",
       "    <tr>\n",
       "      <th>563</th>\n",
       "      <td>NaN</td>\n",
       "      <td>(now  Croatia)</td>\n",
       "      <td>NaN</td>\n",
       "      <td>NaN</td>\n",
       "      <td>NaN</td>\n",
       "      <td>NaN</td>\n",
       "      <td>NaN</td>\n",
       "      <td>NaN</td>\n",
       "    </tr>\n",
       "    <tr>\n",
       "      <th>313</th>\n",
       "      <td>Greece</td>\n",
       "      <td>—</td>\n",
       "      <td>Andreas Glyniadakis</td>\n",
       "      <td>C</td>\n",
       "      <td>2006–2007</td>\n",
       "      <td>1.0</td>\n",
       "      <td>—</td>\n",
       "      <td>[322]</td>\n",
       "    </tr>\n",
       "    <tr>\n",
       "      <th>506</th>\n",
       "      <td>NaN</td>\n",
       "      <td>NaN</td>\n",
       "      <td>NaN</td>\n",
       "      <td>NaN</td>\n",
       "      <td>2013–2014</td>\n",
       "      <td>NaN</td>\n",
       "      <td>NaN</td>\n",
       "      <td>NaN</td>\n",
       "    </tr>\n",
       "    <tr>\n",
       "      <th>537</th>\n",
       "      <td>Serbia</td>\n",
       "      <td>SFR Yugoslavia</td>\n",
       "      <td>Nenad Krstić</td>\n",
       "      <td>C</td>\n",
       "      <td>2004–2011</td>\n",
       "      <td>7.0</td>\n",
       "      <td>Born in SFR Yugoslavia,[D] has represented FR ...</td>\n",
       "      <td>[534]</td>\n",
       "    </tr>\n",
       "    <tr>\n",
       "      <th>677</th>\n",
       "      <td>United States</td>\n",
       "      <td>Nigeria</td>\n",
       "      <td>Josh Okogie*</td>\n",
       "      <td>F</td>\n",
       "      <td>2018–present</td>\n",
       "      <td>1.0</td>\n",
       "      <td>Born in Nigeria, became a naturalized U.S citizen</td>\n",
       "      <td>[658]</td>\n",
       "    </tr>\n",
       "    <tr>\n",
       "      <th>454</th>\n",
       "      <td>Panama</td>\n",
       "      <td>United States</td>\n",
       "      <td>Stuart Gray</td>\n",
       "      <td>C/F</td>\n",
       "      <td>1984–1991</td>\n",
       "      <td>7.0</td>\n",
       "      <td>Born in the Panama Canal Zone (which was contr...</td>\n",
       "      <td>[461]</td>\n",
       "    </tr>\n",
       "    <tr>\n",
       "      <th>428</th>\n",
       "      <td>Nigeria</td>\n",
       "      <td>—</td>\n",
       "      <td>Solomon Alabi</td>\n",
       "      <td>C</td>\n",
       "      <td>2010–2012</td>\n",
       "      <td>2.0</td>\n",
       "      <td>—</td>\n",
       "      <td>[430]</td>\n",
       "    </tr>\n",
       "    <tr>\n",
       "      <th>375</th>\n",
       "      <td>Lebanon</td>\n",
       "      <td>United States</td>\n",
       "      <td>Matt Freije</td>\n",
       "      <td>F</td>\n",
       "      <td>2004–2005; 2006</td>\n",
       "      <td>2.0</td>\n",
       "      <td>Born in the United States, became a naturalize...</td>\n",
       "      <td>[390]</td>\n",
       "    </tr>\n",
       "  </tbody>\n",
       "</table>\n",
       "</div>"
      ],
      "text/plain": [
       "     Nationality[A]    Birthplace[B]                 Player Pos.  \\\n",
       "680   United States           Sweden           Miles Simon     G   \n",
       "239          France                 —              Pape Sy   F/G   \n",
       "563              NaN  (now  Croatia)                    NaN  NaN   \n",
       "313          Greece                 —  Andreas Glyniadakis     C   \n",
       "506              NaN              NaN                   NaN  NaN   \n",
       "537          Serbia    SFR Yugoslavia         Nenad Krstić     C   \n",
       "677   United States          Nigeria          Josh Okogie*     F   \n",
       "454          Panama    United States           Stuart Gray   C/F   \n",
       "428         Nigeria                 —        Solomon Alabi     C   \n",
       "375         Lebanon    United States           Matt Freije     F   \n",
       "\n",
       "          Career[C]   Yrs                                              Notes  \\\n",
       "680        1998–1999  1.0  Born in Sweden to an American father and a Nor...   \n",
       "239        2010–2011  1.0                                                  —   \n",
       "563              NaN  NaN                                                NaN   \n",
       "313        2006–2007  1.0                                                  —   \n",
       "506        2013–2014  NaN                                                NaN   \n",
       "537        2004–2011  7.0  Born in SFR Yugoslavia,[D] has represented FR ...   \n",
       "677     2018–present  1.0  Born in Nigeria, became a naturalized U.S citizen   \n",
       "454        1984–1991  7.0  Born in the Panama Canal Zone (which was contr...   \n",
       "428        2010–2012  2.0                                                  —   \n",
       "375  2004–2005; 2006  2.0  Born in the United States, became a naturalize...   \n",
       "\n",
       "       Ref.  \n",
       "680  [664]   \n",
       "239  [249]   \n",
       "563     NaN  \n",
       "313  [322]   \n",
       "506     NaN  \n",
       "537  [534]   \n",
       "677  [658]   \n",
       "454  [461]   \n",
       "428  [430]   \n",
       "375  [390]   "
      ]
     },
     "execution_count": 9,
     "metadata": {},
     "output_type": "execute_result"
    }
   ],
   "source": [
    "intp.sample(10)"
   ]
  },
  {
   "cell_type": "markdown",
   "metadata": {},
   "source": [
    "### Cleaning"
   ]
  },
  {
   "cell_type": "markdown",
   "metadata": {},
   "source": [
    "Rename columns. Drop 2 of them and all Player NaNs"
   ]
  },
  {
   "cell_type": "code",
   "execution_count": 10,
   "metadata": {},
   "outputs": [],
   "source": [
    "intp.columns = ['Nationality', 'Birthplace', 'Player', 'Pos', 'Career', 'Years', 'Notes', 'Ref']\n",
    "intp = intp.drop(['Notes', 'Ref'], axis=1)\n",
    "intp = intp.dropna(subset=['Player', 'Nationality'])"
   ]
  },
  {
   "cell_type": "markdown",
   "metadata": {},
   "source": [
    "Drop Players born in USA\n",
    "\n",
    "TODO: Delete also those with US Nationality???\n"
   ]
  },
  {
   "cell_type": "code",
   "execution_count": 11,
   "metadata": {},
   "outputs": [],
   "source": [
    "intp = intp.loc[intp.Birthplace != ' United States ']\n",
    "# intp = intp.loc[intp.Nationality != ' United States ']"
   ]
  },
  {
   "cell_type": "code",
   "execution_count": 12,
   "metadata": {},
   "outputs": [
    {
     "data": {
      "text/plain": [
       "(449, 6)"
      ]
     },
     "execution_count": 12,
     "metadata": {},
     "output_type": "execute_result"
    },
    {
     "data": {
      "text/html": [
       "<div>\n",
       "<style scoped>\n",
       "    .dataframe tbody tr th:only-of-type {\n",
       "        vertical-align: middle;\n",
       "    }\n",
       "\n",
       "    .dataframe tbody tr th {\n",
       "        vertical-align: top;\n",
       "    }\n",
       "\n",
       "    .dataframe thead th {\n",
       "        text-align: right;\n",
       "    }\n",
       "</style>\n",
       "<table border=\"1\" class=\"dataframe\">\n",
       "  <thead>\n",
       "    <tr style=\"text-align: right;\">\n",
       "      <th></th>\n",
       "      <th>Nationality</th>\n",
       "      <th>Birthplace</th>\n",
       "      <th>Player</th>\n",
       "      <th>Pos</th>\n",
       "      <th>Career</th>\n",
       "      <th>Years</th>\n",
       "    </tr>\n",
       "  </thead>\n",
       "  <tbody>\n",
       "    <tr>\n",
       "      <th>388</th>\n",
       "      <td>Sweden</td>\n",
       "      <td>—</td>\n",
       "      <td>Jonas Jerebko*</td>\n",
       "      <td>F</td>\n",
       "      <td>2009–present</td>\n",
       "      <td>10.0</td>\n",
       "    </tr>\n",
       "    <tr>\n",
       "      <th>332</th>\n",
       "      <td>Serbia</td>\n",
       "      <td>FR Yugoslavia</td>\n",
       "      <td>Bogdan Bogdanović*</td>\n",
       "      <td>G</td>\n",
       "      <td>2017–present</td>\n",
       "      <td>2.0</td>\n",
       "    </tr>\n",
       "    <tr>\n",
       "      <th>121</th>\n",
       "      <td>Croatia</td>\n",
       "      <td>SFR Yugoslavia</td>\n",
       "      <td>Dražen Petrović^</td>\n",
       "      <td>G</td>\n",
       "      <td>1989–1993</td>\n",
       "      <td>4.0</td>\n",
       "    </tr>\n",
       "    <tr>\n",
       "      <th>349</th>\n",
       "      <td>Serbia</td>\n",
       "      <td>SFR Yugoslavia</td>\n",
       "      <td>Vladimir Radmanović</td>\n",
       "      <td>F</td>\n",
       "      <td>2001–2013</td>\n",
       "      <td>12.0</td>\n",
       "    </tr>\n",
       "    <tr>\n",
       "      <th>184</th>\n",
       "      <td>Georgia</td>\n",
       "      <td>—</td>\n",
       "      <td>Tornike Shengelia</td>\n",
       "      <td>F</td>\n",
       "      <td>2012–2014</td>\n",
       "      <td>2.0</td>\n",
       "    </tr>\n",
       "    <tr>\n",
       "      <th>214</th>\n",
       "      <td>Greece</td>\n",
       "      <td>—</td>\n",
       "      <td>Giannis Antetokounmpo*</td>\n",
       "      <td>F</td>\n",
       "      <td>2013–present</td>\n",
       "      <td>6.0</td>\n",
       "    </tr>\n",
       "    <tr>\n",
       "      <th>274</th>\n",
       "      <td>Montenegro</td>\n",
       "      <td>SFR Yugoslavia</td>\n",
       "      <td>Slavko Vraneš</td>\n",
       "      <td>C</td>\n",
       "      <td>2004</td>\n",
       "      <td>1.0</td>\n",
       "    </tr>\n",
       "    <tr>\n",
       "      <th>215</th>\n",
       "      <td>Greece</td>\n",
       "      <td>—</td>\n",
       "      <td>Kostas Antetokounmpo*</td>\n",
       "      <td>F</td>\n",
       "      <td>2018–present</td>\n",
       "      <td>1.0</td>\n",
       "    </tr>\n",
       "    <tr>\n",
       "      <th>381</th>\n",
       "      <td>Spain</td>\n",
       "      <td>—</td>\n",
       "      <td>Raül López</td>\n",
       "      <td>G</td>\n",
       "      <td>2002–2005</td>\n",
       "      <td>2.0</td>\n",
       "    </tr>\n",
       "    <tr>\n",
       "      <th>435</th>\n",
       "      <td>United States</td>\n",
       "      <td>Nigeria</td>\n",
       "      <td>Hakeem Olajuwon^</td>\n",
       "      <td>C</td>\n",
       "      <td>1984–2002</td>\n",
       "      <td>18.0</td>\n",
       "    </tr>\n",
       "  </tbody>\n",
       "</table>\n",
       "</div>"
      ],
      "text/plain": [
       "         Nationality       Birthplace                   Player Pos  \\\n",
       "388          Sweden                 —          Jonas Jerebko*    F   \n",
       "332          Serbia     FR Yugoslavia      Bogdan Bogdanović*    G   \n",
       "121         Croatia    SFR Yugoslavia        Dražen Petrović^    G   \n",
       "349          Serbia    SFR Yugoslavia     Vladimir Radmanović    F   \n",
       "184         Georgia                 —       Tornike Shengelia    F   \n",
       "214          Greece                 —  Giannis Antetokounmpo*    F   \n",
       "274      Montenegro    SFR Yugoslavia           Slavko Vraneš    C   \n",
       "215          Greece                 —   Kostas Antetokounmpo*    F   \n",
       "381           Spain                 —              Raül López    G   \n",
       "435   United States          Nigeria         Hakeem Olajuwon^    C   \n",
       "\n",
       "           Career  Years  \n",
       "388  2009–present   10.0  \n",
       "332  2017–present    2.0  \n",
       "121     1989–1993    4.0  \n",
       "349     2001–2013   12.0  \n",
       "184     2012–2014    2.0  \n",
       "214  2013–present    6.0  \n",
       "274          2004    1.0  \n",
       "215  2018–present    1.0  \n",
       "381     2002–2005    2.0  \n",
       "435     1984–2002   18.0  "
      ]
     },
     "execution_count": 12,
     "metadata": {},
     "output_type": "execute_result"
    }
   ],
   "source": [
    "intp.shape\n",
    "intp.index = pd.RangeIndex(len(intp))\n",
    "intp.sample(10)"
   ]
  },
  {
   "cell_type": "markdown",
   "metadata": {},
   "source": [
    "Check which Names match those from stats data frame"
   ]
  },
  {
   "cell_type": "code",
   "execution_count": 14,
   "metadata": {},
   "outputs": [
    {
     "data": {
      "text/html": [
       "<div>\n",
       "<style scoped>\n",
       "    .dataframe tbody tr th:only-of-type {\n",
       "        vertical-align: middle;\n",
       "    }\n",
       "\n",
       "    .dataframe tbody tr th {\n",
       "        vertical-align: top;\n",
       "    }\n",
       "\n",
       "    .dataframe thead th {\n",
       "        text-align: right;\n",
       "    }\n",
       "</style>\n",
       "<table border=\"1\" class=\"dataframe\">\n",
       "  <thead>\n",
       "    <tr style=\"text-align: right;\">\n",
       "      <th></th>\n",
       "      <th>Nationality</th>\n",
       "      <th>Birthplace</th>\n",
       "      <th>Player</th>\n",
       "      <th>Pos</th>\n",
       "      <th>Career</th>\n",
       "      <th>Years</th>\n",
       "    </tr>\n",
       "  </thead>\n",
       "  <tbody>\n",
       "    <tr>\n",
       "      <th>156</th>\n",
       "      <td>France</td>\n",
       "      <td>—</td>\n",
       "      <td>Tariq Abdul-Wahad</td>\n",
       "      <td>F</td>\n",
       "      <td>1997–2003</td>\n",
       "      <td>6.0</td>\n",
       "    </tr>\n",
       "    <tr>\n",
       "      <th>433</th>\n",
       "      <td>United States</td>\n",
       "      <td>Manchukuo</td>\n",
       "      <td>Tom Meschery</td>\n",
       "      <td>F</td>\n",
       "      <td>1961–1971</td>\n",
       "      <td>10.0</td>\n",
       "    </tr>\n",
       "  </tbody>\n",
       "</table>\n",
       "</div>"
      ],
      "text/plain": [
       "         Nationality  Birthplace             Player Pos     Career  Years\n",
       "156          France            —  Tariq Abdul-Wahad   F  1997–2003    6.0\n",
       "433   United States    Manchukuo       Tom Meschery   F  1961–1971   10.0"
      ]
     },
     "execution_count": 14,
     "metadata": {},
     "output_type": "execute_result"
    }
   ],
   "source": [
    "intp.loc[intp.Player.isin(stat.Player)]"
   ]
  },
  {
   "cell_type": "markdown",
   "metadata": {},
   "source": [
    "Let's begin with removing whitespaces at the end"
   ]
  },
  {
   "cell_type": "code",
   "execution_count": 17,
   "metadata": {},
   "outputs": [],
   "source": [
    "#TODO: Have to use my data cleaning tutorial"
   ]
  },
  {
   "cell_type": "markdown",
   "metadata": {},
   "source": [
    "# Results\n",
    "Show graphs and stats here"
   ]
  },
  {
   "cell_type": "markdown",
   "metadata": {},
   "source": [
    "# Conclusions and Next Steps\n",
    "Summarize findings here"
   ]
  },
  {
   "cell_type": "code",
   "execution_count": null,
   "metadata": {},
   "outputs": [],
   "source": []
  }
 ],
 "metadata": {
  "kernelspec": {
   "display_name": "Python 3",
   "language": "python",
   "name": "python3"
  },
  "language_info": {
   "codemirror_mode": {
    "name": "ipython",
    "version": 3
   },
   "file_extension": ".py",
   "mimetype": "text/x-python",
   "name": "python",
   "nbconvert_exporter": "python",
   "pygments_lexer": "ipython3",
   "version": "3.7.3"
  }
 },
 "nbformat": 4,
 "nbformat_minor": 2
}
