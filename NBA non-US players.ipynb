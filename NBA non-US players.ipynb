{
 "cells": [
  {
   "cell_type": "markdown",
   "metadata": {},
   "source": [
    "# Introduction\n",
    "\n",
    "The goal of this project is to visualise, how the impact of Players NOT born in the USA has changed over the years. \n",
    "\n",
    "This project uses a Seasons_stats.csv file from Kaggle: https://www.kaggle.com/drgilermo/nba-players-stats.  Seasons_stats.csv contains stats from every NBA player each season from 1949/1950 until 2016/2017. Stats from the last couple of seasons were imported from basketball-reference.com. For 2018:\n",
    "- stats_2018: https://www.basketball-reference.com/leagues/NBA_2018_totals.html\n",
    "- adv_2018: https://www.basketball-reference.com/leagues/NBA_2018_advanced.html\n",
    "\n",
    "And for 2019:\n",
    "- stats_2019: https://www.basketball-reference.com/leagues/NBA_2019_totals.html\n",
    "- adv_2019: https://www.basketball-reference.com/leagues/NBA_2019_advanced.html\n",
    "\n",
    "The list of international Players comes from Wikipedia: https://en.wikipedia.org/wiki/List_of_foreign_NBA_players\n",
    "\n",
    "Important note: There is a lot of data that is missing, because not every stat is available since the first season. More details and explaination of each stat: https://www.basketball-reference.com/about/glossary.html"
   ]
  },
  {
   "cell_type": "markdown",
   "metadata": {},
   "source": [
    "### Imports\n",
    "Import libraries."
   ]
  },
  {
   "cell_type": "code",
   "execution_count": 1,
   "metadata": {},
   "outputs": [],
   "source": [
    "# Data manipulation\n",
    "import pandas as pd\n",
    "import numpy as np\n",
    "\n",
    "# Options for pandas\n",
    "pd.options.display.max_columns = 50\n",
    "pd.options.display.max_rows = 30\n",
    "\n",
    "# Display all cell outputs\n",
    "from IPython.core.interactiveshell import InteractiveShell\n",
    "InteractiveShell.ast_node_interactivity = 'all'\n",
    "\n",
    "from IPython import get_ipython\n",
    "ipython = get_ipython()\n",
    "\n",
    "# autoreload extension\n",
    "if 'autoreload' not in ipython.extension_manager.loaded:\n",
    "    %load_ext autoreload\n",
    "\n",
    "%autoreload 2\n",
    "\n",
    "# Visualizations\n",
    "import matplotlib.pyplot as plt\n",
    "%matplotlib inline\n",
    "\n",
    "\n",
    "# Project specific imports\n",
    "from unidecode import unidecode"
   ]
  },
  {
   "cell_type": "code",
   "execution_count": 2,
   "metadata": {},
   "outputs": [],
   "source": [
    "# plot settings\n",
    "# I had to separate this part from import of pyplot,\n",
    "# because figure.figsize were ignored\n",
    "import matplotlib.pylab as pylab\n",
    "params = {'legend.fontsize': 'x-large',\n",
    "          'figure.dpi': 72.0,\n",
    "          'figure.figsize': (15, 5),\n",
    "         'axes.labelsize': 'x-large',\n",
    "         'axes.titlesize':'x-large',\n",
    "         'axes.grid':True,\n",
    "         'xtick.labelsize':'x-large',\n",
    "         'ytick.labelsize':'x-large',\n",
    "         'grid.color':'gray',\n",
    "         'grid.linewidth': 0.5,\n",
    "         'grid.linestyle': ':'}\n",
    "pylab.rcParams.update(params)"
   ]
  },
  {
   "cell_type": "markdown",
   "metadata": {},
   "source": [
    "# Analysis/Modeling\n",
    "### Import statistics"
   ]
  },
  {
   "cell_type": "code",
   "execution_count": 3,
   "metadata": {},
   "outputs": [],
   "source": [
    "stat = pd.read_csv('Seasons_Stats.csv')"
   ]
  },
  {
   "cell_type": "markdown",
   "metadata": {},
   "source": [
    "### Introducing Data Frame"
   ]
  },
  {
   "cell_type": "code",
   "execution_count": 4,
   "metadata": {},
   "outputs": [
    {
     "data": {
      "text/plain": [
       "(24691, 53)"
      ]
     },
     "execution_count": 4,
     "metadata": {},
     "output_type": "execute_result"
    },
    {
     "data": {
      "text/plain": [
       "Unnamed: 0      int64\n",
       "Year          float64\n",
       "Player         object\n",
       "Pos            object\n",
       "Age           float64\n",
       "Tm             object\n",
       "G             float64\n",
       "GS            float64\n",
       "MP            float64\n",
       "PER           float64\n",
       "TS%           float64\n",
       "3PAr          float64\n",
       "FTr           float64\n",
       "ORB%          float64\n",
       "DRB%          float64\n",
       "               ...   \n",
       "2PA           float64\n",
       "2P%           float64\n",
       "eFG%          float64\n",
       "FT            float64\n",
       "FTA           float64\n",
       "FT%           float64\n",
       "ORB           float64\n",
       "DRB           float64\n",
       "TRB           float64\n",
       "AST           float64\n",
       "STL           float64\n",
       "BLK           float64\n",
       "TOV           float64\n",
       "PF            float64\n",
       "PTS           float64\n",
       "Length: 53, dtype: object"
      ]
     },
     "execution_count": 4,
     "metadata": {},
     "output_type": "execute_result"
    }
   ],
   "source": [
    "stat.shape\n",
    "stat.dtypes"
   ]
  },
  {
   "cell_type": "markdown",
   "metadata": {},
   "source": [
    "### Cleaning"
   ]
  },
  {
   "cell_type": "code",
   "execution_count": 5,
   "metadata": {},
   "outputs": [
    {
     "data": {
      "text/plain": [
       "Rk           0\n",
       "Year        67\n",
       "Player      67\n",
       "Pos         67\n",
       "Age         75\n",
       "Tm          67\n",
       "G           67\n",
       "GS        6458\n",
       "MP         553\n",
       "PER        590\n",
       "TS%        153\n",
       "3PAr      5852\n",
       "FTr        166\n",
       "ORB%      3899\n",
       "DRB%      3899\n",
       "          ... \n",
       "2PA         67\n",
       "2P%        195\n",
       "eFG%       166\n",
       "FT          67\n",
       "FTA         67\n",
       "FT%        925\n",
       "ORB       3894\n",
       "DRB       3894\n",
       "TRB        379\n",
       "AST         67\n",
       "STL       3894\n",
       "BLK       3894\n",
       "TOV       5046\n",
       "PF          67\n",
       "PTS         67\n",
       "Length: 53, dtype: int64"
      ]
     },
     "execution_count": 5,
     "metadata": {},
     "output_type": "execute_result"
    }
   ],
   "source": [
    "stat = stat.rename(columns={'Unnamed: 0': 'Rk'})\n",
    "stat.isna().sum()"
   ]
  },
  {
   "cell_type": "markdown",
   "metadata": {},
   "source": [
    "#### Dropping rows where Player is NaN"
   ]
  },
  {
   "cell_type": "code",
   "execution_count": 6,
   "metadata": {},
   "outputs": [],
   "source": [
    "stat = stat.dropna(subset=['Player']);"
   ]
  },
  {
   "cell_type": "markdown",
   "metadata": {},
   "source": [
    "#### Dropping two columns with no values"
   ]
  },
  {
   "cell_type": "code",
   "execution_count": 7,
   "metadata": {},
   "outputs": [],
   "source": [
    "stat = stat.drop(['blanl', 'blank2'], axis=1);\n",
    "\n",
    "# delete asteriks from Hall of Famers\n",
    "stat['Player'] = stat['Player'].str.replace('*', '');"
   ]
  },
  {
   "cell_type": "markdown",
   "metadata": {},
   "source": [
    "### Import stats from 2018"
   ]
  },
  {
   "cell_type": "code",
   "execution_count": 8,
   "metadata": {},
   "outputs": [],
   "source": [
    "stats_2018 = pd.read_csv('ignore/stats_2018.csv')\n",
    "adv_2018 = pd.read_csv('ignore/adv_2018.csv')"
   ]
  },
  {
   "cell_type": "markdown",
   "metadata": {},
   "source": [
    "#### Finding rows without stats and deleting them"
   ]
  },
  {
   "cell_type": "code",
   "execution_count": 9,
   "metadata": {},
   "outputs": [],
   "source": [
    "stats_rows_to_delete = stats_2018.loc[stats_2018['Player'] == 'Player']\n",
    "adv_rows_to_delete = adv_2018.loc[adv_2018['Player'] == 'Player']\n",
    "\n",
    "stats_2018 = stats_2018.drop(stats_rows_to_delete.index)\n",
    "adv_2018 = adv_2018.drop(adv_rows_to_delete.index)"
   ]
  },
  {
   "cell_type": "markdown",
   "metadata": {},
   "source": [
    "#### Deleting columns containing 'Unnamed'"
   ]
  },
  {
   "cell_type": "code",
   "execution_count": 10,
   "metadata": {},
   "outputs": [],
   "source": [
    "adv_2018 = adv_2018.loc[:, ~adv_2018.columns.str.contains('Unnamed')]"
   ]
  },
  {
   "cell_type": "markdown",
   "metadata": {},
   "source": [
    "#### Finding differences in column names for both Data Frames"
   ]
  },
  {
   "cell_type": "code",
   "execution_count": 11,
   "metadata": {},
   "outputs": [
    {
     "data": {
      "text/plain": [
       "Index(['3PAr', 'AST%', 'BLK%', 'BPM', 'DBPM', 'DRB%', 'DWS', 'FTr', 'OBPM',\n",
       "       'ORB%', 'OWS', 'PER', 'STL%', 'TOV%', 'TRB%', 'TS%', 'USG%', 'VORP',\n",
       "       'WS', 'WS/48'],\n",
       "      dtype='object')"
      ]
     },
     "execution_count": 11,
     "metadata": {},
     "output_type": "execute_result"
    }
   ],
   "source": [
    "cols = adv_2018.columns.difference(stats_2018.columns)\n",
    "cols"
   ]
  },
  {
   "cell_type": "markdown",
   "metadata": {},
   "source": [
    "#### Joining both Data Frames ignoring duplicated columns"
   ]
  },
  {
   "cell_type": "code",
   "execution_count": 12,
   "metadata": {},
   "outputs": [
    {
     "data": {
      "text/plain": [
       "(664, 50)"
      ]
     },
     "execution_count": 12,
     "metadata": {},
     "output_type": "execute_result"
    },
    {
     "data": {
      "text/plain": [
       "Rk        object\n",
       "Player    object\n",
       "Pos       object\n",
       "Age       object\n",
       "Tm        object\n",
       "G         object\n",
       "GS        object\n",
       "MP        object\n",
       "FG        object\n",
       "FGA       object\n",
       "FG%       object\n",
       "3P        object\n",
       "3PA       object\n",
       "3P%       object\n",
       "2P        object\n",
       "           ...  \n",
       "DRB%      object\n",
       "DWS       object\n",
       "FTr       object\n",
       "OBPM      object\n",
       "ORB%      object\n",
       "OWS       object\n",
       "PER       object\n",
       "STL%      object\n",
       "TOV%      object\n",
       "TRB%      object\n",
       "TS%       object\n",
       "USG%      object\n",
       "VORP      object\n",
       "WS        object\n",
       "WS/48     object\n",
       "Length: 50, dtype: object"
      ]
     },
     "execution_count": 12,
     "metadata": {},
     "output_type": "execute_result"
    }
   ],
   "source": [
    "stats_2018 = stats_2018.join(adv_2018[cols])\n",
    "stats_2018.shape\n",
    "stats_2018.dtypes"
   ]
  },
  {
   "cell_type": "markdown",
   "metadata": {},
   "source": [
    "#### Converting to numerical values"
   ]
  },
  {
   "cell_type": "code",
   "execution_count": 13,
   "metadata": {},
   "outputs": [
    {
     "data": {
      "text/plain": [
       "Rk         object\n",
       "Player     object\n",
       "Pos        object\n",
       "Age        object\n",
       "Tm         object\n",
       "G           int64\n",
       "GS          int64\n",
       "MP          int64\n",
       "FG          int64\n",
       "FGA         int64\n",
       "FG%       float64\n",
       "3P          int64\n",
       "3PA         int64\n",
       "3P%       float64\n",
       "2P          int64\n",
       "           ...   \n",
       "DRB%      float64\n",
       "DWS       float64\n",
       "FTr       float64\n",
       "OBPM      float64\n",
       "ORB%      float64\n",
       "OWS       float64\n",
       "PER       float64\n",
       "STL%      float64\n",
       "TOV%      float64\n",
       "TRB%      float64\n",
       "TS%       float64\n",
       "USG%      float64\n",
       "VORP      float64\n",
       "WS        float64\n",
       "WS/48     float64\n",
       "Length: 50, dtype: object"
      ]
     },
     "execution_count": 13,
     "metadata": {},
     "output_type": "execute_result"
    }
   ],
   "source": [
    "cols = stats_2018.columns.values[5:]\n",
    "stats_2018[cols] = stats_2018[cols].apply(pd.to_numeric, errors='coerce')\n",
    "stats_2018.dtypes"
   ]
  },
  {
   "cell_type": "code",
   "execution_count": 14,
   "metadata": {},
   "outputs": [
    {
     "data": {
      "text/plain": [
       "Index(['Year'], dtype='object')"
      ]
     },
     "execution_count": 14,
     "metadata": {},
     "output_type": "execute_result"
    }
   ],
   "source": [
    "stat.columns.difference(stats_2018.columns)"
   ]
  },
  {
   "cell_type": "code",
   "execution_count": 15,
   "metadata": {},
   "outputs": [
    {
     "data": {
      "text/html": [
       "<div>\n",
       "<style scoped>\n",
       "    .dataframe tbody tr th:only-of-type {\n",
       "        vertical-align: middle;\n",
       "    }\n",
       "\n",
       "    .dataframe tbody tr th {\n",
       "        vertical-align: top;\n",
       "    }\n",
       "\n",
       "    .dataframe thead th {\n",
       "        text-align: right;\n",
       "    }\n",
       "</style>\n",
       "<table border=\"1\" class=\"dataframe\">\n",
       "  <thead>\n",
       "    <tr style=\"text-align: right;\">\n",
       "      <th></th>\n",
       "      <th>Rk</th>\n",
       "      <th>Player</th>\n",
       "      <th>Pos</th>\n",
       "      <th>Age</th>\n",
       "      <th>Tm</th>\n",
       "      <th>G</th>\n",
       "      <th>GS</th>\n",
       "      <th>MP</th>\n",
       "      <th>FG</th>\n",
       "      <th>FGA</th>\n",
       "      <th>FG%</th>\n",
       "      <th>3P</th>\n",
       "      <th>3PA</th>\n",
       "      <th>3P%</th>\n",
       "      <th>2P</th>\n",
       "      <th>2PA</th>\n",
       "      <th>2P%</th>\n",
       "      <th>eFG%</th>\n",
       "      <th>FT</th>\n",
       "      <th>FTA</th>\n",
       "      <th>FT%</th>\n",
       "      <th>ORB</th>\n",
       "      <th>DRB</th>\n",
       "      <th>TRB</th>\n",
       "      <th>AST</th>\n",
       "      <th>...</th>\n",
       "      <th>BLK</th>\n",
       "      <th>TOV</th>\n",
       "      <th>PF</th>\n",
       "      <th>PTS</th>\n",
       "      <th>3PAr</th>\n",
       "      <th>AST%</th>\n",
       "      <th>BLK%</th>\n",
       "      <th>BPM</th>\n",
       "      <th>DBPM</th>\n",
       "      <th>DRB%</th>\n",
       "      <th>DWS</th>\n",
       "      <th>FTr</th>\n",
       "      <th>OBPM</th>\n",
       "      <th>ORB%</th>\n",
       "      <th>OWS</th>\n",
       "      <th>PER</th>\n",
       "      <th>STL%</th>\n",
       "      <th>TOV%</th>\n",
       "      <th>TRB%</th>\n",
       "      <th>TS%</th>\n",
       "      <th>USG%</th>\n",
       "      <th>VORP</th>\n",
       "      <th>WS</th>\n",
       "      <th>WS/48</th>\n",
       "      <th>Year</th>\n",
       "    </tr>\n",
       "  </thead>\n",
       "  <tbody>\n",
       "    <tr>\n",
       "      <th>672</th>\n",
       "      <td>527</td>\n",
       "      <td>Jeff Withey</td>\n",
       "      <td>C</td>\n",
       "      <td>27</td>\n",
       "      <td>DAL</td>\n",
       "      <td>9</td>\n",
       "      <td>0</td>\n",
       "      <td>39</td>\n",
       "      <td>6</td>\n",
       "      <td>16</td>\n",
       "      <td>0.375</td>\n",
       "      <td>2</td>\n",
       "      <td>10</td>\n",
       "      <td>0.200</td>\n",
       "      <td>4</td>\n",
       "      <td>6</td>\n",
       "      <td>0.667</td>\n",
       "      <td>0.438</td>\n",
       "      <td>1</td>\n",
       "      <td>2</td>\n",
       "      <td>0.500</td>\n",
       "      <td>1</td>\n",
       "      <td>9</td>\n",
       "      <td>10</td>\n",
       "      <td>0</td>\n",
       "      <td>...</td>\n",
       "      <td>3</td>\n",
       "      <td>2</td>\n",
       "      <td>3</td>\n",
       "      <td>15</td>\n",
       "      <td>0.625</td>\n",
       "      <td>0.0</td>\n",
       "      <td>6.8</td>\n",
       "      <td>-12.8</td>\n",
       "      <td>-3.7</td>\n",
       "      <td>26.6</td>\n",
       "      <td>0.1</td>\n",
       "      <td>0.125</td>\n",
       "      <td>-9.1</td>\n",
       "      <td>2.8</td>\n",
       "      <td>-0.1</td>\n",
       "      <td>8.3</td>\n",
       "      <td>0.0</td>\n",
       "      <td>10.6</td>\n",
       "      <td>14.2</td>\n",
       "      <td>0.444</td>\n",
       "      <td>22.0</td>\n",
       "      <td>-0.1</td>\n",
       "      <td>0.0</td>\n",
       "      <td>-0.054</td>\n",
       "      <td>2018</td>\n",
       "    </tr>\n",
       "    <tr>\n",
       "      <th>24</th>\n",
       "      <td>23</td>\n",
       "      <td>Ömer Aşık</td>\n",
       "      <td>C</td>\n",
       "      <td>31</td>\n",
       "      <td>NOP</td>\n",
       "      <td>14</td>\n",
       "      <td>0</td>\n",
       "      <td>121</td>\n",
       "      <td>7</td>\n",
       "      <td>16</td>\n",
       "      <td>0.438</td>\n",
       "      <td>0</td>\n",
       "      <td>0</td>\n",
       "      <td>NaN</td>\n",
       "      <td>7</td>\n",
       "      <td>16</td>\n",
       "      <td>0.438</td>\n",
       "      <td>0.438</td>\n",
       "      <td>4</td>\n",
       "      <td>12</td>\n",
       "      <td>0.333</td>\n",
       "      <td>7</td>\n",
       "      <td>30</td>\n",
       "      <td>37</td>\n",
       "      <td>2</td>\n",
       "      <td>...</td>\n",
       "      <td>2</td>\n",
       "      <td>5</td>\n",
       "      <td>14</td>\n",
       "      <td>18</td>\n",
       "      <td>0.000</td>\n",
       "      <td>2.0</td>\n",
       "      <td>1.3</td>\n",
       "      <td>-8.1</td>\n",
       "      <td>-0.7</td>\n",
       "      <td>26.0</td>\n",
       "      <td>0.1</td>\n",
       "      <td>0.750</td>\n",
       "      <td>-7.4</td>\n",
       "      <td>6.5</td>\n",
       "      <td>-0.1</td>\n",
       "      <td>4.5</td>\n",
       "      <td>0.4</td>\n",
       "      <td>19.0</td>\n",
       "      <td>16.6</td>\n",
       "      <td>0.423</td>\n",
       "      <td>9.4</td>\n",
       "      <td>-0.2</td>\n",
       "      <td>0.0</td>\n",
       "      <td>0.008</td>\n",
       "      <td>2018</td>\n",
       "    </tr>\n",
       "    <tr>\n",
       "      <th>572</th>\n",
       "      <td>446</td>\n",
       "      <td>Ramon Sessions</td>\n",
       "      <td>PG</td>\n",
       "      <td>31</td>\n",
       "      <td>WAS</td>\n",
       "      <td>15</td>\n",
       "      <td>0</td>\n",
       "      <td>225</td>\n",
       "      <td>25</td>\n",
       "      <td>64</td>\n",
       "      <td>0.391</td>\n",
       "      <td>6</td>\n",
       "      <td>15</td>\n",
       "      <td>0.400</td>\n",
       "      <td>19</td>\n",
       "      <td>49</td>\n",
       "      <td>0.388</td>\n",
       "      <td>0.438</td>\n",
       "      <td>32</td>\n",
       "      <td>42</td>\n",
       "      <td>0.762</td>\n",
       "      <td>5</td>\n",
       "      <td>15</td>\n",
       "      <td>20</td>\n",
       "      <td>50</td>\n",
       "      <td>...</td>\n",
       "      <td>1</td>\n",
       "      <td>15</td>\n",
       "      <td>15</td>\n",
       "      <td>88</td>\n",
       "      <td>0.234</td>\n",
       "      <td>31.1</td>\n",
       "      <td>0.4</td>\n",
       "      <td>-3.7</td>\n",
       "      <td>-2.9</td>\n",
       "      <td>7.5</td>\n",
       "      <td>0.1</td>\n",
       "      <td>0.656</td>\n",
       "      <td>-0.8</td>\n",
       "      <td>2.5</td>\n",
       "      <td>0.4</td>\n",
       "      <td>14.9</td>\n",
       "      <td>1.5</td>\n",
       "      <td>15.4</td>\n",
       "      <td>5.0</td>\n",
       "      <td>0.533</td>\n",
       "      <td>19.1</td>\n",
       "      <td>-0.1</td>\n",
       "      <td>0.5</td>\n",
       "      <td>0.116</td>\n",
       "      <td>2018</td>\n",
       "    </tr>\n",
       "    <tr>\n",
       "      <th>63</th>\n",
       "      <td>54</td>\n",
       "      <td>Bogdan Bogdanović</td>\n",
       "      <td>SG</td>\n",
       "      <td>25</td>\n",
       "      <td>SAC</td>\n",
       "      <td>78</td>\n",
       "      <td>53</td>\n",
       "      <td>2175</td>\n",
       "      <td>344</td>\n",
       "      <td>772</td>\n",
       "      <td>0.446</td>\n",
       "      <td>129</td>\n",
       "      <td>329</td>\n",
       "      <td>0.392</td>\n",
       "      <td>215</td>\n",
       "      <td>443</td>\n",
       "      <td>0.485</td>\n",
       "      <td>0.529</td>\n",
       "      <td>100</td>\n",
       "      <td>119</td>\n",
       "      <td>0.840</td>\n",
       "      <td>31</td>\n",
       "      <td>192</td>\n",
       "      <td>223</td>\n",
       "      <td>258</td>\n",
       "      <td>...</td>\n",
       "      <td>16</td>\n",
       "      <td>125</td>\n",
       "      <td>172</td>\n",
       "      <td>917</td>\n",
       "      <td>0.426</td>\n",
       "      <td>18.3</td>\n",
       "      <td>0.7</td>\n",
       "      <td>-1.0</td>\n",
       "      <td>-1.5</td>\n",
       "      <td>10.5</td>\n",
       "      <td>1.1</td>\n",
       "      <td>0.154</td>\n",
       "      <td>0.5</td>\n",
       "      <td>1.6</td>\n",
       "      <td>1.8</td>\n",
       "      <td>13.5</td>\n",
       "      <td>1.7</td>\n",
       "      <td>13.2</td>\n",
       "      <td>5.8</td>\n",
       "      <td>0.556</td>\n",
       "      <td>19.6</td>\n",
       "      <td>0.6</td>\n",
       "      <td>2.9</td>\n",
       "      <td>0.064</td>\n",
       "      <td>2018</td>\n",
       "    </tr>\n",
       "    <tr>\n",
       "      <th>153</th>\n",
       "      <td>121</td>\n",
       "      <td>Troy Daniels</td>\n",
       "      <td>SG</td>\n",
       "      <td>26</td>\n",
       "      <td>PHO</td>\n",
       "      <td>79</td>\n",
       "      <td>15</td>\n",
       "      <td>1622</td>\n",
       "      <td>232</td>\n",
       "      <td>575</td>\n",
       "      <td>0.403</td>\n",
       "      <td>183</td>\n",
       "      <td>458</td>\n",
       "      <td>0.400</td>\n",
       "      <td>49</td>\n",
       "      <td>117</td>\n",
       "      <td>0.419</td>\n",
       "      <td>0.563</td>\n",
       "      <td>56</td>\n",
       "      <td>64</td>\n",
       "      <td>0.875</td>\n",
       "      <td>12</td>\n",
       "      <td>115</td>\n",
       "      <td>127</td>\n",
       "      <td>48</td>\n",
       "      <td>...</td>\n",
       "      <td>5</td>\n",
       "      <td>56</td>\n",
       "      <td>137</td>\n",
       "      <td>703</td>\n",
       "      <td>0.797</td>\n",
       "      <td>4.5</td>\n",
       "      <td>0.2</td>\n",
       "      <td>-2.9</td>\n",
       "      <td>-3.6</td>\n",
       "      <td>7.7</td>\n",
       "      <td>0.0</td>\n",
       "      <td>0.111</td>\n",
       "      <td>0.7</td>\n",
       "      <td>0.8</td>\n",
       "      <td>1.4</td>\n",
       "      <td>9.8</td>\n",
       "      <td>0.8</td>\n",
       "      <td>8.5</td>\n",
       "      <td>4.2</td>\n",
       "      <td>0.583</td>\n",
       "      <td>17.2</td>\n",
       "      <td>-0.4</td>\n",
       "      <td>1.4</td>\n",
       "      <td>0.042</td>\n",
       "      <td>2018</td>\n",
       "    </tr>\n",
       "  </tbody>\n",
       "</table>\n",
       "<p>5 rows × 51 columns</p>\n",
       "</div>"
      ],
      "text/plain": [
       "      Rk             Player Pos Age   Tm   G  GS    MP   FG  FGA    FG%   3P  \\\n",
       "672  527        Jeff Withey   C  27  DAL   9   0    39    6   16  0.375    2   \n",
       "24    23          Ömer Aşık   C  31  NOP  14   0   121    7   16  0.438    0   \n",
       "572  446     Ramon Sessions  PG  31  WAS  15   0   225   25   64  0.391    6   \n",
       "63    54  Bogdan Bogdanović  SG  25  SAC  78  53  2175  344  772  0.446  129   \n",
       "153  121       Troy Daniels  SG  26  PHO  79  15  1622  232  575  0.403  183   \n",
       "\n",
       "     3PA    3P%   2P  2PA    2P%   eFG%   FT  FTA    FT%  ORB  DRB  TRB  AST  \\\n",
       "672   10  0.200    4    6  0.667  0.438    1    2  0.500    1    9   10    0   \n",
       "24     0    NaN    7   16  0.438  0.438    4   12  0.333    7   30   37    2   \n",
       "572   15  0.400   19   49  0.388  0.438   32   42  0.762    5   15   20   50   \n",
       "63   329  0.392  215  443  0.485  0.529  100  119  0.840   31  192  223  258   \n",
       "153  458  0.400   49  117  0.419  0.563   56   64  0.875   12  115  127   48   \n",
       "\n",
       "     ...  BLK  TOV   PF  PTS   3PAr  AST%  BLK%   BPM  DBPM  DRB%  DWS    FTr  \\\n",
       "672  ...    3    2    3   15  0.625   0.0   6.8 -12.8  -3.7  26.6  0.1  0.125   \n",
       "24   ...    2    5   14   18  0.000   2.0   1.3  -8.1  -0.7  26.0  0.1  0.750   \n",
       "572  ...    1   15   15   88  0.234  31.1   0.4  -3.7  -2.9   7.5  0.1  0.656   \n",
       "63   ...   16  125  172  917  0.426  18.3   0.7  -1.0  -1.5  10.5  1.1  0.154   \n",
       "153  ...    5   56  137  703  0.797   4.5   0.2  -2.9  -3.6   7.7  0.0  0.111   \n",
       "\n",
       "     OBPM  ORB%  OWS   PER  STL%  TOV%  TRB%    TS%  USG%  VORP   WS  WS/48  \\\n",
       "672  -9.1   2.8 -0.1   8.3   0.0  10.6  14.2  0.444  22.0  -0.1  0.0 -0.054   \n",
       "24   -7.4   6.5 -0.1   4.5   0.4  19.0  16.6  0.423   9.4  -0.2  0.0  0.008   \n",
       "572  -0.8   2.5  0.4  14.9   1.5  15.4   5.0  0.533  19.1  -0.1  0.5  0.116   \n",
       "63    0.5   1.6  1.8  13.5   1.7  13.2   5.8  0.556  19.6   0.6  2.9  0.064   \n",
       "153   0.7   0.8  1.4   9.8   0.8   8.5   4.2  0.583  17.2  -0.4  1.4  0.042   \n",
       "\n",
       "     Year  \n",
       "672  2018  \n",
       "24   2018  \n",
       "572  2018  \n",
       "63   2018  \n",
       "153  2018  \n",
       "\n",
       "[5 rows x 51 columns]"
      ]
     },
     "execution_count": 15,
     "metadata": {},
     "output_type": "execute_result"
    }
   ],
   "source": [
    "stats_2018['Year'] = 2018\n",
    "stats_2018.sample(5)"
   ]
  },
  {
   "cell_type": "markdown",
   "metadata": {},
   "source": [
    "### Import stats from 2019\n",
    "\n",
    "The steps are identical with those from 2018 stats"
   ]
  },
  {
   "cell_type": "code",
   "execution_count": 16,
   "metadata": {},
   "outputs": [],
   "source": [
    "stats_2019 = pd.read_csv('ignore/stats_2019.csv')\n",
    "adv_2019 = pd.read_csv('ignore/adv_2019.csv')"
   ]
  },
  {
   "cell_type": "markdown",
   "metadata": {},
   "source": [
    "#### Finding rows without stats and deleting them"
   ]
  },
  {
   "cell_type": "code",
   "execution_count": 17,
   "metadata": {},
   "outputs": [],
   "source": [
    "stats_rows_to_delete = stats_2019.loc[stats_2019['Player'] == 'Player']\n",
    "adv_rows_to_delete = adv_2019.loc[adv_2019['Player'] == 'Player']\n",
    "\n",
    "stats_2019 = stats_2019.drop(stats_rows_to_delete.index)\n",
    "adv_2019 = adv_2019.drop(adv_rows_to_delete.index)"
   ]
  },
  {
   "cell_type": "markdown",
   "metadata": {},
   "source": [
    "#### Deleting columns containing 'Unnamed'"
   ]
  },
  {
   "cell_type": "code",
   "execution_count": 18,
   "metadata": {},
   "outputs": [],
   "source": [
    "adv_2019 = adv_2019.loc[:, ~adv_2019.columns.str.contains('Unnamed')]"
   ]
  },
  {
   "cell_type": "code",
   "execution_count": 19,
   "metadata": {},
   "outputs": [
    {
     "data": {
      "text/plain": [
       "Index(['3PAr', 'AST%', 'BLK%', 'BPM', 'DBPM', 'DRB%', 'DWS', 'FTr', 'OBPM',\n",
       "       'ORB%', 'OWS', 'PER', 'STL%', 'TOV%', 'TRB%', 'TS%', 'USG%', 'VORP',\n",
       "       'WS', 'WS/48'],\n",
       "      dtype='object')"
      ]
     },
     "execution_count": 19,
     "metadata": {},
     "output_type": "execute_result"
    }
   ],
   "source": [
    "cols = adv_2019.columns.difference(stats_2019.columns)\n",
    "cols"
   ]
  },
  {
   "cell_type": "code",
   "execution_count": 20,
   "metadata": {},
   "outputs": [
    {
     "data": {
      "text/plain": [
       "(708, 50)"
      ]
     },
     "execution_count": 20,
     "metadata": {},
     "output_type": "execute_result"
    }
   ],
   "source": [
    "stats_2019 = stats_2019.join(adv_2019[cols])\n",
    "stats_2019.shape"
   ]
  },
  {
   "cell_type": "code",
   "execution_count": 21,
   "metadata": {},
   "outputs": [
    {
     "data": {
      "text/plain": [
       "Rk         object\n",
       "Player     object\n",
       "Pos        object\n",
       "Age        object\n",
       "Tm         object\n",
       "G           int64\n",
       "GS          int64\n",
       "MP          int64\n",
       "FG          int64\n",
       "FGA         int64\n",
       "FG%       float64\n",
       "3P          int64\n",
       "3PA         int64\n",
       "3P%       float64\n",
       "2P          int64\n",
       "           ...   \n",
       "DRB%      float64\n",
       "DWS       float64\n",
       "FTr       float64\n",
       "OBPM      float64\n",
       "ORB%      float64\n",
       "OWS       float64\n",
       "PER       float64\n",
       "STL%      float64\n",
       "TOV%      float64\n",
       "TRB%      float64\n",
       "TS%       float64\n",
       "USG%      float64\n",
       "VORP      float64\n",
       "WS        float64\n",
       "WS/48     float64\n",
       "Length: 50, dtype: object"
      ]
     },
     "execution_count": 21,
     "metadata": {},
     "output_type": "execute_result"
    }
   ],
   "source": [
    "cols = stats_2019.columns.values[5:]\n",
    "stats_2019[cols] = stats_2019[cols].apply(pd.to_numeric, errors='coerce')\n",
    "stats_2019.dtypes"
   ]
  },
  {
   "cell_type": "code",
   "execution_count": 22,
   "metadata": {},
   "outputs": [
    {
     "data": {
      "text/plain": [
       "Index(['Year'], dtype='object')"
      ]
     },
     "execution_count": 22,
     "metadata": {},
     "output_type": "execute_result"
    }
   ],
   "source": [
    "stat.columns.difference(stats_2019.columns)"
   ]
  },
  {
   "cell_type": "code",
   "execution_count": 23,
   "metadata": {},
   "outputs": [
    {
     "data": {
      "text/html": [
       "<div>\n",
       "<style scoped>\n",
       "    .dataframe tbody tr th:only-of-type {\n",
       "        vertical-align: middle;\n",
       "    }\n",
       "\n",
       "    .dataframe tbody tr th {\n",
       "        vertical-align: top;\n",
       "    }\n",
       "\n",
       "    .dataframe thead th {\n",
       "        text-align: right;\n",
       "    }\n",
       "</style>\n",
       "<table border=\"1\" class=\"dataframe\">\n",
       "  <thead>\n",
       "    <tr style=\"text-align: right;\">\n",
       "      <th></th>\n",
       "      <th>Rk</th>\n",
       "      <th>Player</th>\n",
       "      <th>Pos</th>\n",
       "      <th>Age</th>\n",
       "      <th>Tm</th>\n",
       "      <th>G</th>\n",
       "      <th>GS</th>\n",
       "      <th>MP</th>\n",
       "      <th>FG</th>\n",
       "      <th>FGA</th>\n",
       "      <th>FG%</th>\n",
       "      <th>3P</th>\n",
       "      <th>3PA</th>\n",
       "      <th>3P%</th>\n",
       "      <th>2P</th>\n",
       "      <th>2PA</th>\n",
       "      <th>2P%</th>\n",
       "      <th>eFG%</th>\n",
       "      <th>FT</th>\n",
       "      <th>FTA</th>\n",
       "      <th>FT%</th>\n",
       "      <th>ORB</th>\n",
       "      <th>DRB</th>\n",
       "      <th>TRB</th>\n",
       "      <th>AST</th>\n",
       "      <th>...</th>\n",
       "      <th>BLK</th>\n",
       "      <th>TOV</th>\n",
       "      <th>PF</th>\n",
       "      <th>PTS</th>\n",
       "      <th>3PAr</th>\n",
       "      <th>AST%</th>\n",
       "      <th>BLK%</th>\n",
       "      <th>BPM</th>\n",
       "      <th>DBPM</th>\n",
       "      <th>DRB%</th>\n",
       "      <th>DWS</th>\n",
       "      <th>FTr</th>\n",
       "      <th>OBPM</th>\n",
       "      <th>ORB%</th>\n",
       "      <th>OWS</th>\n",
       "      <th>PER</th>\n",
       "      <th>STL%</th>\n",
       "      <th>TOV%</th>\n",
       "      <th>TRB%</th>\n",
       "      <th>TS%</th>\n",
       "      <th>USG%</th>\n",
       "      <th>VORP</th>\n",
       "      <th>WS</th>\n",
       "      <th>WS/48</th>\n",
       "      <th>Year</th>\n",
       "    </tr>\n",
       "  </thead>\n",
       "  <tbody>\n",
       "    <tr>\n",
       "      <th>695</th>\n",
       "      <td>501</td>\n",
       "      <td>Brad Wanamaker</td>\n",
       "      <td>PG</td>\n",
       "      <td>29</td>\n",
       "      <td>BOS</td>\n",
       "      <td>36</td>\n",
       "      <td>0</td>\n",
       "      <td>343</td>\n",
       "      <td>50</td>\n",
       "      <td>105</td>\n",
       "      <td>0.476</td>\n",
       "      <td>16</td>\n",
       "      <td>39</td>\n",
       "      <td>0.410</td>\n",
       "      <td>34</td>\n",
       "      <td>66</td>\n",
       "      <td>0.515</td>\n",
       "      <td>0.552</td>\n",
       "      <td>24</td>\n",
       "      <td>28</td>\n",
       "      <td>0.857</td>\n",
       "      <td>3</td>\n",
       "      <td>38</td>\n",
       "      <td>41</td>\n",
       "      <td>56</td>\n",
       "      <td>...</td>\n",
       "      <td>2</td>\n",
       "      <td>19</td>\n",
       "      <td>34</td>\n",
       "      <td>140</td>\n",
       "      <td>0.371</td>\n",
       "      <td>22.5</td>\n",
       "      <td>0.5</td>\n",
       "      <td>-2.2</td>\n",
       "      <td>-1.4</td>\n",
       "      <td>11.8</td>\n",
       "      <td>0.4</td>\n",
       "      <td>0.267</td>\n",
       "      <td>-0.8</td>\n",
       "      <td>0.9</td>\n",
       "      <td>0.6</td>\n",
       "      <td>14.3</td>\n",
       "      <td>1.7</td>\n",
       "      <td>13.9</td>\n",
       "      <td>6.4</td>\n",
       "      <td>0.597</td>\n",
       "      <td>17.1</td>\n",
       "      <td>0.0</td>\n",
       "      <td>1.0</td>\n",
       "      <td>0.134</td>\n",
       "      <td>2019</td>\n",
       "    </tr>\n",
       "    <tr>\n",
       "      <th>666</th>\n",
       "      <td>476</td>\n",
       "      <td>Klay Thompson</td>\n",
       "      <td>SG</td>\n",
       "      <td>28</td>\n",
       "      <td>GSW</td>\n",
       "      <td>78</td>\n",
       "      <td>78</td>\n",
       "      <td>2652</td>\n",
       "      <td>655</td>\n",
       "      <td>1402</td>\n",
       "      <td>0.467</td>\n",
       "      <td>241</td>\n",
       "      <td>599</td>\n",
       "      <td>0.402</td>\n",
       "      <td>414</td>\n",
       "      <td>803</td>\n",
       "      <td>0.516</td>\n",
       "      <td>0.553</td>\n",
       "      <td>129</td>\n",
       "      <td>158</td>\n",
       "      <td>0.816</td>\n",
       "      <td>37</td>\n",
       "      <td>262</td>\n",
       "      <td>299</td>\n",
       "      <td>186</td>\n",
       "      <td>...</td>\n",
       "      <td>47</td>\n",
       "      <td>115</td>\n",
       "      <td>157</td>\n",
       "      <td>1680</td>\n",
       "      <td>0.427</td>\n",
       "      <td>10.5</td>\n",
       "      <td>1.5</td>\n",
       "      <td>-0.8</td>\n",
       "      <td>-2.0</td>\n",
       "      <td>10.1</td>\n",
       "      <td>2.3</td>\n",
       "      <td>0.113</td>\n",
       "      <td>1.2</td>\n",
       "      <td>1.6</td>\n",
       "      <td>2.9</td>\n",
       "      <td>16.6</td>\n",
       "      <td>1.5</td>\n",
       "      <td>7.2</td>\n",
       "      <td>6.0</td>\n",
       "      <td>0.571</td>\n",
       "      <td>25.6</td>\n",
       "      <td>0.8</td>\n",
       "      <td>5.3</td>\n",
       "      <td>0.095</td>\n",
       "      <td>2019</td>\n",
       "    </tr>\n",
       "    <tr>\n",
       "      <th>583</th>\n",
       "      <td>422</td>\n",
       "      <td>Austin Rivers</td>\n",
       "      <td>SG</td>\n",
       "      <td>26</td>\n",
       "      <td>HOU</td>\n",
       "      <td>47</td>\n",
       "      <td>13</td>\n",
       "      <td>1345</td>\n",
       "      <td>156</td>\n",
       "      <td>378</td>\n",
       "      <td>0.413</td>\n",
       "      <td>71</td>\n",
       "      <td>221</td>\n",
       "      <td>0.321</td>\n",
       "      <td>85</td>\n",
       "      <td>157</td>\n",
       "      <td>0.541</td>\n",
       "      <td>0.507</td>\n",
       "      <td>25</td>\n",
       "      <td>49</td>\n",
       "      <td>0.510</td>\n",
       "      <td>15</td>\n",
       "      <td>76</td>\n",
       "      <td>91</td>\n",
       "      <td>109</td>\n",
       "      <td>...</td>\n",
       "      <td>13</td>\n",
       "      <td>32</td>\n",
       "      <td>135</td>\n",
       "      <td>408</td>\n",
       "      <td>0.585</td>\n",
       "      <td>11.7</td>\n",
       "      <td>0.8</td>\n",
       "      <td>-2.9</td>\n",
       "      <td>-1.5</td>\n",
       "      <td>6.4</td>\n",
       "      <td>0.6</td>\n",
       "      <td>0.130</td>\n",
       "      <td>-1.4</td>\n",
       "      <td>1.2</td>\n",
       "      <td>0.8</td>\n",
       "      <td>8.2</td>\n",
       "      <td>1.1</td>\n",
       "      <td>7.4</td>\n",
       "      <td>3.7</td>\n",
       "      <td>0.511</td>\n",
       "      <td>13.9</td>\n",
       "      <td>-0.3</td>\n",
       "      <td>1.4</td>\n",
       "      <td>0.050</td>\n",
       "      <td>2019</td>\n",
       "    </tr>\n",
       "    <tr>\n",
       "      <th>359</th>\n",
       "      <td>266</td>\n",
       "      <td>Stanley Johnson</td>\n",
       "      <td>SF</td>\n",
       "      <td>22</td>\n",
       "      <td>NOP</td>\n",
       "      <td>18</td>\n",
       "      <td>0</td>\n",
       "      <td>247</td>\n",
       "      <td>38</td>\n",
       "      <td>91</td>\n",
       "      <td>0.418</td>\n",
       "      <td>11</td>\n",
       "      <td>34</td>\n",
       "      <td>0.324</td>\n",
       "      <td>27</td>\n",
       "      <td>57</td>\n",
       "      <td>0.474</td>\n",
       "      <td>0.478</td>\n",
       "      <td>9</td>\n",
       "      <td>13</td>\n",
       "      <td>0.692</td>\n",
       "      <td>9</td>\n",
       "      <td>33</td>\n",
       "      <td>42</td>\n",
       "      <td>28</td>\n",
       "      <td>...</td>\n",
       "      <td>1</td>\n",
       "      <td>26</td>\n",
       "      <td>22</td>\n",
       "      <td>96</td>\n",
       "      <td>0.374</td>\n",
       "      <td>15.1</td>\n",
       "      <td>0.3</td>\n",
       "      <td>-4.7</td>\n",
       "      <td>-0.9</td>\n",
       "      <td>13.7</td>\n",
       "      <td>0.2</td>\n",
       "      <td>0.143</td>\n",
       "      <td>-3.8</td>\n",
       "      <td>3.8</td>\n",
       "      <td>-0.3</td>\n",
       "      <td>8.9</td>\n",
       "      <td>2.3</td>\n",
       "      <td>21.2</td>\n",
       "      <td>8.8</td>\n",
       "      <td>0.496</td>\n",
       "      <td>20.4</td>\n",
       "      <td>-0.2</td>\n",
       "      <td>-0.1</td>\n",
       "      <td>-0.028</td>\n",
       "      <td>2019</td>\n",
       "    </tr>\n",
       "    <tr>\n",
       "      <th>228</th>\n",
       "      <td>169</td>\n",
       "      <td>Bryn Forbes</td>\n",
       "      <td>SG</td>\n",
       "      <td>25</td>\n",
       "      <td>SAS</td>\n",
       "      <td>82</td>\n",
       "      <td>81</td>\n",
       "      <td>2293</td>\n",
       "      <td>361</td>\n",
       "      <td>791</td>\n",
       "      <td>0.456</td>\n",
       "      <td>176</td>\n",
       "      <td>413</td>\n",
       "      <td>0.426</td>\n",
       "      <td>185</td>\n",
       "      <td>378</td>\n",
       "      <td>0.489</td>\n",
       "      <td>0.568</td>\n",
       "      <td>69</td>\n",
       "      <td>78</td>\n",
       "      <td>0.885</td>\n",
       "      <td>18</td>\n",
       "      <td>221</td>\n",
       "      <td>239</td>\n",
       "      <td>175</td>\n",
       "      <td>...</td>\n",
       "      <td>4</td>\n",
       "      <td>80</td>\n",
       "      <td>159</td>\n",
       "      <td>967</td>\n",
       "      <td>0.522</td>\n",
       "      <td>10.6</td>\n",
       "      <td>0.1</td>\n",
       "      <td>-0.7</td>\n",
       "      <td>-1.7</td>\n",
       "      <td>10.4</td>\n",
       "      <td>1.3</td>\n",
       "      <td>0.099</td>\n",
       "      <td>1.0</td>\n",
       "      <td>0.9</td>\n",
       "      <td>2.5</td>\n",
       "      <td>12.0</td>\n",
       "      <td>1.0</td>\n",
       "      <td>8.8</td>\n",
       "      <td>5.7</td>\n",
       "      <td>0.586</td>\n",
       "      <td>17.4</td>\n",
       "      <td>0.7</td>\n",
       "      <td>3.8</td>\n",
       "      <td>0.079</td>\n",
       "      <td>2019</td>\n",
       "    </tr>\n",
       "  </tbody>\n",
       "</table>\n",
       "<p>5 rows × 51 columns</p>\n",
       "</div>"
      ],
      "text/plain": [
       "      Rk           Player Pos Age   Tm   G  GS    MP   FG   FGA    FG%   3P  \\\n",
       "695  501   Brad Wanamaker  PG  29  BOS  36   0   343   50   105  0.476   16   \n",
       "666  476    Klay Thompson  SG  28  GSW  78  78  2652  655  1402  0.467  241   \n",
       "583  422    Austin Rivers  SG  26  HOU  47  13  1345  156   378  0.413   71   \n",
       "359  266  Stanley Johnson  SF  22  NOP  18   0   247   38    91  0.418   11   \n",
       "228  169      Bryn Forbes  SG  25  SAS  82  81  2293  361   791  0.456  176   \n",
       "\n",
       "     3PA    3P%   2P  2PA    2P%   eFG%   FT  FTA    FT%  ORB  DRB  TRB  AST  \\\n",
       "695   39  0.410   34   66  0.515  0.552   24   28  0.857    3   38   41   56   \n",
       "666  599  0.402  414  803  0.516  0.553  129  158  0.816   37  262  299  186   \n",
       "583  221  0.321   85  157  0.541  0.507   25   49  0.510   15   76   91  109   \n",
       "359   34  0.324   27   57  0.474  0.478    9   13  0.692    9   33   42   28   \n",
       "228  413  0.426  185  378  0.489  0.568   69   78  0.885   18  221  239  175   \n",
       "\n",
       "     ...  BLK  TOV   PF   PTS   3PAr  AST%  BLK%  BPM  DBPM  DRB%  DWS    FTr  \\\n",
       "695  ...    2   19   34   140  0.371  22.5   0.5 -2.2  -1.4  11.8  0.4  0.267   \n",
       "666  ...   47  115  157  1680  0.427  10.5   1.5 -0.8  -2.0  10.1  2.3  0.113   \n",
       "583  ...   13   32  135   408  0.585  11.7   0.8 -2.9  -1.5   6.4  0.6  0.130   \n",
       "359  ...    1   26   22    96  0.374  15.1   0.3 -4.7  -0.9  13.7  0.2  0.143   \n",
       "228  ...    4   80  159   967  0.522  10.6   0.1 -0.7  -1.7  10.4  1.3  0.099   \n",
       "\n",
       "     OBPM  ORB%  OWS   PER  STL%  TOV%  TRB%    TS%  USG%  VORP   WS  WS/48  \\\n",
       "695  -0.8   0.9  0.6  14.3   1.7  13.9   6.4  0.597  17.1   0.0  1.0  0.134   \n",
       "666   1.2   1.6  2.9  16.6   1.5   7.2   6.0  0.571  25.6   0.8  5.3  0.095   \n",
       "583  -1.4   1.2  0.8   8.2   1.1   7.4   3.7  0.511  13.9  -0.3  1.4  0.050   \n",
       "359  -3.8   3.8 -0.3   8.9   2.3  21.2   8.8  0.496  20.4  -0.2 -0.1 -0.028   \n",
       "228   1.0   0.9  2.5  12.0   1.0   8.8   5.7  0.586  17.4   0.7  3.8  0.079   \n",
       "\n",
       "     Year  \n",
       "695  2019  \n",
       "666  2019  \n",
       "583  2019  \n",
       "359  2019  \n",
       "228  2019  \n",
       "\n",
       "[5 rows x 51 columns]"
      ]
     },
     "execution_count": 23,
     "metadata": {},
     "output_type": "execute_result"
    }
   ],
   "source": [
    "stats_2019['Year'] = 2019\n",
    "stats_2019.sample(5)"
   ]
  },
  {
   "cell_type": "code",
   "execution_count": 24,
   "metadata": {},
   "outputs": [
    {
     "data": {
      "text/plain": [
       "Index([], dtype='object')"
      ]
     },
     "execution_count": 24,
     "metadata": {},
     "output_type": "execute_result"
    }
   ],
   "source": [
    "stat.columns.difference(stats_2019.columns)"
   ]
  },
  {
   "cell_type": "markdown",
   "metadata": {},
   "source": [
    "### Adding stats from last two years to the Data from Kaggle"
   ]
  },
  {
   "cell_type": "code",
   "execution_count": 25,
   "metadata": {},
   "outputs": [],
   "source": [
    "stat = pd.concat([stat, stats_2018], sort=False)\n",
    "stat = stat.reset_index(drop=True)\n",
    "\n",
    "stat = pd.concat([stat, stats_2019], sort=False)\n",
    "stat = stat.reset_index(drop=True)"
   ]
  },
  {
   "cell_type": "code",
   "execution_count": 26,
   "metadata": {},
   "outputs": [
    {
     "data": {
      "text/plain": [
       "(25996, 51)"
      ]
     },
     "execution_count": 26,
     "metadata": {},
     "output_type": "execute_result"
    },
    {
     "data": {
      "text/html": [
       "<div>\n",
       "<style scoped>\n",
       "    .dataframe tbody tr th:only-of-type {\n",
       "        vertical-align: middle;\n",
       "    }\n",
       "\n",
       "    .dataframe tbody tr th {\n",
       "        vertical-align: top;\n",
       "    }\n",
       "\n",
       "    .dataframe thead th {\n",
       "        text-align: right;\n",
       "    }\n",
       "</style>\n",
       "<table border=\"1\" class=\"dataframe\">\n",
       "  <thead>\n",
       "    <tr style=\"text-align: right;\">\n",
       "      <th></th>\n",
       "      <th>Rk</th>\n",
       "      <th>Year</th>\n",
       "      <th>Player</th>\n",
       "      <th>Pos</th>\n",
       "      <th>Age</th>\n",
       "      <th>Tm</th>\n",
       "      <th>G</th>\n",
       "      <th>GS</th>\n",
       "      <th>MP</th>\n",
       "      <th>PER</th>\n",
       "      <th>TS%</th>\n",
       "      <th>3PAr</th>\n",
       "      <th>FTr</th>\n",
       "      <th>ORB%</th>\n",
       "      <th>DRB%</th>\n",
       "      <th>TRB%</th>\n",
       "      <th>AST%</th>\n",
       "      <th>STL%</th>\n",
       "      <th>BLK%</th>\n",
       "      <th>TOV%</th>\n",
       "      <th>USG%</th>\n",
       "      <th>OWS</th>\n",
       "      <th>DWS</th>\n",
       "      <th>WS</th>\n",
       "      <th>WS/48</th>\n",
       "      <th>...</th>\n",
       "      <th>DBPM</th>\n",
       "      <th>BPM</th>\n",
       "      <th>VORP</th>\n",
       "      <th>FG</th>\n",
       "      <th>FGA</th>\n",
       "      <th>FG%</th>\n",
       "      <th>3P</th>\n",
       "      <th>3PA</th>\n",
       "      <th>3P%</th>\n",
       "      <th>2P</th>\n",
       "      <th>2PA</th>\n",
       "      <th>2P%</th>\n",
       "      <th>eFG%</th>\n",
       "      <th>FT</th>\n",
       "      <th>FTA</th>\n",
       "      <th>FT%</th>\n",
       "      <th>ORB</th>\n",
       "      <th>DRB</th>\n",
       "      <th>TRB</th>\n",
       "      <th>AST</th>\n",
       "      <th>STL</th>\n",
       "      <th>BLK</th>\n",
       "      <th>TOV</th>\n",
       "      <th>PF</th>\n",
       "      <th>PTS</th>\n",
       "    </tr>\n",
       "  </thead>\n",
       "  <tbody>\n",
       "    <tr>\n",
       "      <th>19374</th>\n",
       "      <td>19433</td>\n",
       "      <td>2009.0</td>\n",
       "      <td>Will Bynum</td>\n",
       "      <td>PG</td>\n",
       "      <td>26</td>\n",
       "      <td>DET</td>\n",
       "      <td>57.0</td>\n",
       "      <td>1.0</td>\n",
       "      <td>803.0</td>\n",
       "      <td>17.4</td>\n",
       "      <td>0.520</td>\n",
       "      <td>0.056</td>\n",
       "      <td>0.348</td>\n",
       "      <td>2.8</td>\n",
       "      <td>8.4</td>\n",
       "      <td>5.5</td>\n",
       "      <td>35.3</td>\n",
       "      <td>2.3</td>\n",
       "      <td>0.2</td>\n",
       "      <td>16.2</td>\n",
       "      <td>27.9</td>\n",
       "      <td>0.5</td>\n",
       "      <td>0.8</td>\n",
       "      <td>1.3</td>\n",
       "      <td>0.078</td>\n",
       "      <td>...</td>\n",
       "      <td>-1.9</td>\n",
       "      <td>-1.7</td>\n",
       "      <td>0.1</td>\n",
       "      <td>156.0</td>\n",
       "      <td>342.0</td>\n",
       "      <td>0.456</td>\n",
       "      <td>3.0</td>\n",
       "      <td>19.0</td>\n",
       "      <td>0.158</td>\n",
       "      <td>153.0</td>\n",
       "      <td>323.0</td>\n",
       "      <td>0.474</td>\n",
       "      <td>0.461</td>\n",
       "      <td>95.0</td>\n",
       "      <td>119.0</td>\n",
       "      <td>0.798</td>\n",
       "      <td>19.0</td>\n",
       "      <td>56.0</td>\n",
       "      <td>75.0</td>\n",
       "      <td>157.0</td>\n",
       "      <td>34.0</td>\n",
       "      <td>2.0</td>\n",
       "      <td>76.0</td>\n",
       "      <td>85.0</td>\n",
       "      <td>410.0</td>\n",
       "    </tr>\n",
       "    <tr>\n",
       "      <th>17511</th>\n",
       "      <td>17566</td>\n",
       "      <td>2005.0</td>\n",
       "      <td>Bruno Sundov</td>\n",
       "      <td>C</td>\n",
       "      <td>24</td>\n",
       "      <td>NYK</td>\n",
       "      <td>21.0</td>\n",
       "      <td>0.0</td>\n",
       "      <td>73.0</td>\n",
       "      <td>1.2</td>\n",
       "      <td>0.330</td>\n",
       "      <td>0.081</td>\n",
       "      <td>0.054</td>\n",
       "      <td>9.6</td>\n",
       "      <td>11.3</td>\n",
       "      <td>10.5</td>\n",
       "      <td>4.6</td>\n",
       "      <td>1.5</td>\n",
       "      <td>2.1</td>\n",
       "      <td>13.7</td>\n",
       "      <td>27.4</td>\n",
       "      <td>-0.3</td>\n",
       "      <td>0.0</td>\n",
       "      <td>-0.3</td>\n",
       "      <td>-0.174</td>\n",
       "      <td>...</td>\n",
       "      <td>-3.2</td>\n",
       "      <td>-12.9</td>\n",
       "      <td>-0.2</td>\n",
       "      <td>11.0</td>\n",
       "      <td>37.0</td>\n",
       "      <td>0.297</td>\n",
       "      <td>1.0</td>\n",
       "      <td>3.0</td>\n",
       "      <td>0.333</td>\n",
       "      <td>10.0</td>\n",
       "      <td>34.0</td>\n",
       "      <td>0.294</td>\n",
       "      <td>0.311</td>\n",
       "      <td>2.0</td>\n",
       "      <td>2.0</td>\n",
       "      <td>1.000</td>\n",
       "      <td>6.0</td>\n",
       "      <td>7.0</td>\n",
       "      <td>13.0</td>\n",
       "      <td>2.0</td>\n",
       "      <td>2.0</td>\n",
       "      <td>2.0</td>\n",
       "      <td>6.0</td>\n",
       "      <td>16.0</td>\n",
       "      <td>25.0</td>\n",
       "    </tr>\n",
       "    <tr>\n",
       "      <th>660</th>\n",
       "      <td>663</td>\n",
       "      <td>1953.0</td>\n",
       "      <td>Dick Groat</td>\n",
       "      <td>PG</td>\n",
       "      <td>22</td>\n",
       "      <td>FTW</td>\n",
       "      <td>26.0</td>\n",
       "      <td>NaN</td>\n",
       "      <td>663.0</td>\n",
       "      <td>18.2</td>\n",
       "      <td>0.464</td>\n",
       "      <td>NaN</td>\n",
       "      <td>0.507</td>\n",
       "      <td>NaN</td>\n",
       "      <td>NaN</td>\n",
       "      <td>NaN</td>\n",
       "      <td>NaN</td>\n",
       "      <td>NaN</td>\n",
       "      <td>NaN</td>\n",
       "      <td>NaN</td>\n",
       "      <td>NaN</td>\n",
       "      <td>1.4</td>\n",
       "      <td>0.7</td>\n",
       "      <td>2.0</td>\n",
       "      <td>0.148</td>\n",
       "      <td>...</td>\n",
       "      <td>NaN</td>\n",
       "      <td>NaN</td>\n",
       "      <td>NaN</td>\n",
       "      <td>100.0</td>\n",
       "      <td>272.0</td>\n",
       "      <td>0.368</td>\n",
       "      <td>NaN</td>\n",
       "      <td>NaN</td>\n",
       "      <td>NaN</td>\n",
       "      <td>100.0</td>\n",
       "      <td>272.0</td>\n",
       "      <td>0.368</td>\n",
       "      <td>0.368</td>\n",
       "      <td>109.0</td>\n",
       "      <td>138.0</td>\n",
       "      <td>0.790</td>\n",
       "      <td>NaN</td>\n",
       "      <td>NaN</td>\n",
       "      <td>86.0</td>\n",
       "      <td>69.0</td>\n",
       "      <td>NaN</td>\n",
       "      <td>NaN</td>\n",
       "      <td>NaN</td>\n",
       "      <td>90.0</td>\n",
       "      <td>309.0</td>\n",
       "    </tr>\n",
       "    <tr>\n",
       "      <th>16759</th>\n",
       "      <td>16813</td>\n",
       "      <td>2004.0</td>\n",
       "      <td>Roger Mason</td>\n",
       "      <td>SG</td>\n",
       "      <td>23</td>\n",
       "      <td>CHI</td>\n",
       "      <td>3.0</td>\n",
       "      <td>0.0</td>\n",
       "      <td>43.0</td>\n",
       "      <td>-5.5</td>\n",
       "      <td>0.136</td>\n",
       "      <td>0.545</td>\n",
       "      <td>0.000</td>\n",
       "      <td>0.0</td>\n",
       "      <td>7.8</td>\n",
       "      <td>3.8</td>\n",
       "      <td>10.2</td>\n",
       "      <td>1.2</td>\n",
       "      <td>0.0</td>\n",
       "      <td>15.4</td>\n",
       "      <td>13.5</td>\n",
       "      <td>-0.2</td>\n",
       "      <td>0.0</td>\n",
       "      <td>-0.2</td>\n",
       "      <td>-0.196</td>\n",
       "      <td>...</td>\n",
       "      <td>-2.0</td>\n",
       "      <td>-12.2</td>\n",
       "      <td>-0.1</td>\n",
       "      <td>1.0</td>\n",
       "      <td>11.0</td>\n",
       "      <td>0.091</td>\n",
       "      <td>1.0</td>\n",
       "      <td>6.0</td>\n",
       "      <td>0.167</td>\n",
       "      <td>0.0</td>\n",
       "      <td>5.0</td>\n",
       "      <td>0.000</td>\n",
       "      <td>0.136</td>\n",
       "      <td>0.0</td>\n",
       "      <td>0.0</td>\n",
       "      <td>NaN</td>\n",
       "      <td>0.0</td>\n",
       "      <td>3.0</td>\n",
       "      <td>3.0</td>\n",
       "      <td>3.0</td>\n",
       "      <td>1.0</td>\n",
       "      <td>0.0</td>\n",
       "      <td>2.0</td>\n",
       "      <td>5.0</td>\n",
       "      <td>3.0</td>\n",
       "    </tr>\n",
       "    <tr>\n",
       "      <th>17061</th>\n",
       "      <td>17116</td>\n",
       "      <td>2005.0</td>\n",
       "      <td>Brent Barry</td>\n",
       "      <td>SG</td>\n",
       "      <td>33</td>\n",
       "      <td>SAS</td>\n",
       "      <td>81.0</td>\n",
       "      <td>8.0</td>\n",
       "      <td>1742.0</td>\n",
       "      <td>14.0</td>\n",
       "      <td>0.580</td>\n",
       "      <td>0.610</td>\n",
       "      <td>0.294</td>\n",
       "      <td>1.9</td>\n",
       "      <td>10.8</td>\n",
       "      <td>6.4</td>\n",
       "      <td>16.3</td>\n",
       "      <td>1.2</td>\n",
       "      <td>0.8</td>\n",
       "      <td>11.0</td>\n",
       "      <td>15.6</td>\n",
       "      <td>3.5</td>\n",
       "      <td>2.7</td>\n",
       "      <td>6.1</td>\n",
       "      <td>0.168</td>\n",
       "      <td>...</td>\n",
       "      <td>0.3</td>\n",
       "      <td>2.0</td>\n",
       "      <td>1.8</td>\n",
       "      <td>194.0</td>\n",
       "      <td>459.0</td>\n",
       "      <td>0.423</td>\n",
       "      <td>100.0</td>\n",
       "      <td>280.0</td>\n",
       "      <td>0.357</td>\n",
       "      <td>94.0</td>\n",
       "      <td>179.0</td>\n",
       "      <td>0.525</td>\n",
       "      <td>0.532</td>\n",
       "      <td>113.0</td>\n",
       "      <td>135.0</td>\n",
       "      <td>0.837</td>\n",
       "      <td>29.0</td>\n",
       "      <td>161.0</td>\n",
       "      <td>190.0</td>\n",
       "      <td>178.0</td>\n",
       "      <td>39.0</td>\n",
       "      <td>20.0</td>\n",
       "      <td>64.0</td>\n",
       "      <td>123.0</td>\n",
       "      <td>601.0</td>\n",
       "    </tr>\n",
       "  </tbody>\n",
       "</table>\n",
       "<p>5 rows × 51 columns</p>\n",
       "</div>"
      ],
      "text/plain": [
       "          Rk    Year        Player Pos Age   Tm     G   GS      MP   PER  \\\n",
       "19374  19433  2009.0    Will Bynum  PG  26  DET  57.0  1.0   803.0  17.4   \n",
       "17511  17566  2005.0  Bruno Sundov   C  24  NYK  21.0  0.0    73.0   1.2   \n",
       "660      663  1953.0    Dick Groat  PG  22  FTW  26.0  NaN   663.0  18.2   \n",
       "16759  16813  2004.0   Roger Mason  SG  23  CHI   3.0  0.0    43.0  -5.5   \n",
       "17061  17116  2005.0   Brent Barry  SG  33  SAS  81.0  8.0  1742.0  14.0   \n",
       "\n",
       "         TS%   3PAr    FTr  ORB%  DRB%  TRB%  AST%  STL%  BLK%  TOV%  USG%  \\\n",
       "19374  0.520  0.056  0.348   2.8   8.4   5.5  35.3   2.3   0.2  16.2  27.9   \n",
       "17511  0.330  0.081  0.054   9.6  11.3  10.5   4.6   1.5   2.1  13.7  27.4   \n",
       "660    0.464    NaN  0.507   NaN   NaN   NaN   NaN   NaN   NaN   NaN   NaN   \n",
       "16759  0.136  0.545  0.000   0.0   7.8   3.8  10.2   1.2   0.0  15.4  13.5   \n",
       "17061  0.580  0.610  0.294   1.9  10.8   6.4  16.3   1.2   0.8  11.0  15.6   \n",
       "\n",
       "       OWS  DWS   WS  WS/48  ...  DBPM   BPM  VORP     FG    FGA    FG%  \\\n",
       "19374  0.5  0.8  1.3  0.078  ...  -1.9  -1.7   0.1  156.0  342.0  0.456   \n",
       "17511 -0.3  0.0 -0.3 -0.174  ...  -3.2 -12.9  -0.2   11.0   37.0  0.297   \n",
       "660    1.4  0.7  2.0  0.148  ...   NaN   NaN   NaN  100.0  272.0  0.368   \n",
       "16759 -0.2  0.0 -0.2 -0.196  ...  -2.0 -12.2  -0.1    1.0   11.0  0.091   \n",
       "17061  3.5  2.7  6.1  0.168  ...   0.3   2.0   1.8  194.0  459.0  0.423   \n",
       "\n",
       "          3P    3PA    3P%     2P    2PA    2P%   eFG%     FT    FTA    FT%  \\\n",
       "19374    3.0   19.0  0.158  153.0  323.0  0.474  0.461   95.0  119.0  0.798   \n",
       "17511    1.0    3.0  0.333   10.0   34.0  0.294  0.311    2.0    2.0  1.000   \n",
       "660      NaN    NaN    NaN  100.0  272.0  0.368  0.368  109.0  138.0  0.790   \n",
       "16759    1.0    6.0  0.167    0.0    5.0  0.000  0.136    0.0    0.0    NaN   \n",
       "17061  100.0  280.0  0.357   94.0  179.0  0.525  0.532  113.0  135.0  0.837   \n",
       "\n",
       "        ORB    DRB    TRB    AST   STL   BLK   TOV     PF    PTS  \n",
       "19374  19.0   56.0   75.0  157.0  34.0   2.0  76.0   85.0  410.0  \n",
       "17511   6.0    7.0   13.0    2.0   2.0   2.0   6.0   16.0   25.0  \n",
       "660     NaN    NaN   86.0   69.0   NaN   NaN   NaN   90.0  309.0  \n",
       "16759   0.0    3.0    3.0    3.0   1.0   0.0   2.0    5.0    3.0  \n",
       "17061  29.0  161.0  190.0  178.0  39.0  20.0  64.0  123.0  601.0  \n",
       "\n",
       "[5 rows x 51 columns]"
      ]
     },
     "execution_count": 26,
     "metadata": {},
     "output_type": "execute_result"
    }
   ],
   "source": [
    "stat.shape\n",
    "stat.sample(5)"
   ]
  },
  {
   "cell_type": "markdown",
   "metadata": {},
   "source": [
    "### Replacing International letters"
   ]
  },
  {
   "cell_type": "code",
   "execution_count": 27,
   "metadata": {},
   "outputs": [],
   "source": [
    "stat['Player'] = stat['Player'].apply(lambda x: unidecode(x))"
   ]
  },
  {
   "cell_type": "markdown",
   "metadata": {},
   "source": [
    "## Import the list of all time international players"
   ]
  },
  {
   "cell_type": "code",
   "execution_count": 28,
   "metadata": {},
   "outputs": [],
   "source": [
    "intp = pd.read_csv('international.csv')"
   ]
  },
  {
   "cell_type": "code",
   "execution_count": 29,
   "metadata": {},
   "outputs": [
    {
     "data": {
      "text/plain": [
       "(698, 8)"
      ]
     },
     "execution_count": 29,
     "metadata": {},
     "output_type": "execute_result"
    },
    {
     "data": {
      "text/plain": [
       "Nationality[A]      object\n",
       "Birthplace[B]       object\n",
       "Player              object\n",
       "Pos.                object\n",
       "Career[C]           object\n",
       "Yrs                float64\n",
       "Notes               object\n",
       "Ref.                object\n",
       "dtype: object"
      ]
     },
     "execution_count": 29,
     "metadata": {},
     "output_type": "execute_result"
    }
   ],
   "source": [
    "intp.shape\n",
    "intp.dtypes"
   ]
  },
  {
   "cell_type": "code",
   "execution_count": 30,
   "metadata": {},
   "outputs": [
    {
     "data": {
      "text/html": [
       "<div>\n",
       "<style scoped>\n",
       "    .dataframe tbody tr th:only-of-type {\n",
       "        vertical-align: middle;\n",
       "    }\n",
       "\n",
       "    .dataframe tbody tr th {\n",
       "        vertical-align: top;\n",
       "    }\n",
       "\n",
       "    .dataframe thead th {\n",
       "        text-align: right;\n",
       "    }\n",
       "</style>\n",
       "<table border=\"1\" class=\"dataframe\">\n",
       "  <thead>\n",
       "    <tr style=\"text-align: right;\">\n",
       "      <th></th>\n",
       "      <th>Nationality[A]</th>\n",
       "      <th>Birthplace[B]</th>\n",
       "      <th>Player</th>\n",
       "      <th>Pos.</th>\n",
       "      <th>Career[C]</th>\n",
       "      <th>Yrs</th>\n",
       "      <th>Notes</th>\n",
       "      <th>Ref.</th>\n",
       "    </tr>\n",
       "  </thead>\n",
       "  <tbody>\n",
       "    <tr>\n",
       "      <th>216</th>\n",
       "      <td>France</td>\n",
       "      <td>—</td>\n",
       "      <td>Nicolas Batum*</td>\n",
       "      <td>F</td>\n",
       "      <td>2008–present</td>\n",
       "      <td>10.0</td>\n",
       "      <td>—</td>\n",
       "      <td>[223]</td>\n",
       "    </tr>\n",
       "    <tr>\n",
       "      <th>71</th>\n",
       "      <td>Brazil</td>\n",
       "      <td>—</td>\n",
       "      <td>Alex Garcia</td>\n",
       "      <td>G</td>\n",
       "      <td>2003–2004</td>\n",
       "      <td>2.0</td>\n",
       "      <td>—</td>\n",
       "      <td>[81]</td>\n",
       "    </tr>\n",
       "    <tr>\n",
       "      <th>372</th>\n",
       "      <td>NaN</td>\n",
       "      <td>NaN</td>\n",
       "      <td>(formerly Hiram Fuller)</td>\n",
       "      <td>NaN</td>\n",
       "      <td>NaN</td>\n",
       "      <td>NaN</td>\n",
       "      <td>NaN</td>\n",
       "      <td>NaN</td>\n",
       "    </tr>\n",
       "    <tr>\n",
       "      <th>88</th>\n",
       "      <td>Cameroon</td>\n",
       "      <td>—</td>\n",
       "      <td>Joel Embiid*</td>\n",
       "      <td>C</td>\n",
       "      <td>2016–present</td>\n",
       "      <td>3.0</td>\n",
       "      <td>—</td>\n",
       "      <td>[101]</td>\n",
       "    </tr>\n",
       "    <tr>\n",
       "      <th>637</th>\n",
       "      <td>Turkey</td>\n",
       "      <td>—</td>\n",
       "      <td>Hedo Türkoğlu</td>\n",
       "      <td>F</td>\n",
       "      <td>2000–2015</td>\n",
       "      <td>15.0</td>\n",
       "      <td>—</td>\n",
       "      <td>[611]</td>\n",
       "    </tr>\n",
       "    <tr>\n",
       "      <th>90</th>\n",
       "      <td>Cameroon</td>\n",
       "      <td>—</td>\n",
       "      <td>Pascal Siakam*</td>\n",
       "      <td>F</td>\n",
       "      <td>2016–present</td>\n",
       "      <td>3.0</td>\n",
       "      <td>—</td>\n",
       "      <td>[103]</td>\n",
       "    </tr>\n",
       "    <tr>\n",
       "      <th>39</th>\n",
       "      <td>Australia</td>\n",
       "      <td>United States</td>\n",
       "      <td>Darnell Mee</td>\n",
       "      <td>G</td>\n",
       "      <td>1993–1995</td>\n",
       "      <td>2.0</td>\n",
       "      <td>Born in the United States, became a naturalize...</td>\n",
       "      <td>[49]</td>\n",
       "    </tr>\n",
       "    <tr>\n",
       "      <th>552</th>\n",
       "      <td>Serbia</td>\n",
       "      <td>SFR Yugoslavia</td>\n",
       "      <td>Kosta Perović</td>\n",
       "      <td>C</td>\n",
       "      <td>2007–2008</td>\n",
       "      <td>1.0</td>\n",
       "      <td>Born in SFR Yugoslavia,[D] has represented FR ...</td>\n",
       "      <td>[543]</td>\n",
       "    </tr>\n",
       "    <tr>\n",
       "      <th>231</th>\n",
       "      <td>France</td>\n",
       "      <td>United States</td>\n",
       "      <td>Joakim Noah*</td>\n",
       "      <td>C</td>\n",
       "      <td>2007–present</td>\n",
       "      <td>12.0</td>\n",
       "      <td>Born in the United States to a French father a...</td>\n",
       "      <td>[239]</td>\n",
       "    </tr>\n",
       "    <tr>\n",
       "      <th>593</th>\n",
       "      <td>NaN</td>\n",
       "      <td>NaN</td>\n",
       "      <td>NaN</td>\n",
       "      <td>NaN</td>\n",
       "      <td>2015–2017</td>\n",
       "      <td>NaN</td>\n",
       "      <td>NaN</td>\n",
       "      <td>NaN</td>\n",
       "    </tr>\n",
       "  </tbody>\n",
       "</table>\n",
       "</div>"
      ],
      "text/plain": [
       "    Nationality[A]    Birthplace[B]                    Player Pos.  \\\n",
       "216         France                 —          Nicolas Batum*     F   \n",
       "71          Brazil                 —             Alex Garcia     G   \n",
       "372             NaN              NaN  (formerly Hiram Fuller)  NaN   \n",
       "88        Cameroon                 —            Joel Embiid*     C   \n",
       "637         Turkey                 —           Hedo Türkoğlu     F   \n",
       "90        Cameroon                 —          Pascal Siakam*     F   \n",
       "39       Australia    United States              Darnell Mee     G   \n",
       "552         Serbia    SFR Yugoslavia           Kosta Perović     C   \n",
       "231         France    United States             Joakim Noah*     C   \n",
       "593             NaN              NaN                      NaN  NaN   \n",
       "\n",
       "       Career[C]    Yrs                                              Notes  \\\n",
       "216  2008–present  10.0                                                  —   \n",
       "71      2003–2004   2.0                                                  —   \n",
       "372           NaN   NaN                                                NaN   \n",
       "88   2016–present   3.0                                                  —   \n",
       "637     2000–2015  15.0                                                  —   \n",
       "90   2016–present   3.0                                                  —   \n",
       "39      1993–1995   2.0  Born in the United States, became a naturalize...   \n",
       "552     2007–2008   1.0  Born in SFR Yugoslavia,[D] has represented FR ...   \n",
       "231  2007–present  12.0  Born in the United States to a French father a...   \n",
       "593     2015–2017   NaN                                                NaN   \n",
       "\n",
       "       Ref.  \n",
       "216  [223]   \n",
       "71    [81]   \n",
       "372     NaN  \n",
       "88   [101]   \n",
       "637  [611]   \n",
       "90   [103]   \n",
       "39    [49]   \n",
       "552  [543]   \n",
       "231  [239]   \n",
       "593     NaN  "
      ]
     },
     "execution_count": 30,
     "metadata": {},
     "output_type": "execute_result"
    }
   ],
   "source": [
    "intp.sample(10)"
   ]
  },
  {
   "cell_type": "markdown",
   "metadata": {},
   "source": [
    "### Cleaning"
   ]
  },
  {
   "cell_type": "markdown",
   "metadata": {},
   "source": [
    "Rename columns. Drop 2 of them and all Player NaNs"
   ]
  },
  {
   "cell_type": "code",
   "execution_count": 31,
   "metadata": {},
   "outputs": [],
   "source": [
    "intp.columns = ['Nationality', 'Birthplace', 'Player', 'Pos', 'Career', 'Years', 'Notes', 'Ref']\n",
    "intp = intp.drop(['Notes', 'Ref'], axis=1)\n",
    "intp = intp.dropna(subset=['Player', 'Nationality'])"
   ]
  },
  {
   "cell_type": "markdown",
   "metadata": {},
   "source": [
    "#### Drop Players with US Nationality or born in USA"
   ]
  },
  {
   "cell_type": "code",
   "execution_count": 32,
   "metadata": {},
   "outputs": [],
   "source": [
    "intp = intp.loc[intp.Birthplace != ' United States ']\n",
    "intp = intp.loc[intp.Nationality != ' United States ']"
   ]
  },
  {
   "cell_type": "code",
   "execution_count": 33,
   "metadata": {},
   "outputs": [
    {
     "data": {
      "text/plain": [
       "(420, 6)"
      ]
     },
     "execution_count": 33,
     "metadata": {},
     "output_type": "execute_result"
    },
    {
     "data": {
      "text/html": [
       "<div>\n",
       "<style scoped>\n",
       "    .dataframe tbody tr th:only-of-type {\n",
       "        vertical-align: middle;\n",
       "    }\n",
       "\n",
       "    .dataframe tbody tr th {\n",
       "        vertical-align: top;\n",
       "    }\n",
       "\n",
       "    .dataframe thead th {\n",
       "        text-align: right;\n",
       "    }\n",
       "</style>\n",
       "<table border=\"1\" class=\"dataframe\">\n",
       "  <thead>\n",
       "    <tr style=\"text-align: right;\">\n",
       "      <th></th>\n",
       "      <th>Nationality</th>\n",
       "      <th>Birthplace</th>\n",
       "      <th>Player</th>\n",
       "      <th>Pos</th>\n",
       "      <th>Career</th>\n",
       "      <th>Years</th>\n",
       "    </tr>\n",
       "  </thead>\n",
       "  <tbody>\n",
       "    <tr>\n",
       "      <th>123</th>\n",
       "      <td>Croatia</td>\n",
       "      <td>SFR Yugoslavia</td>\n",
       "      <td>Dino Rađa^</td>\n",
       "      <td>F/C</td>\n",
       "      <td>1993–1997</td>\n",
       "      <td>4.0</td>\n",
       "    </tr>\n",
       "    <tr>\n",
       "      <th>293</th>\n",
       "      <td>North Macedonia</td>\n",
       "      <td>SFR Yugoslavia</td>\n",
       "      <td>Pero Antić</td>\n",
       "      <td>F/C</td>\n",
       "      <td>2013–2015</td>\n",
       "      <td>2.0</td>\n",
       "    </tr>\n",
       "    <tr>\n",
       "      <th>386</th>\n",
       "      <td>Spain</td>\n",
       "      <td>—</td>\n",
       "      <td>Ricky Rubio*</td>\n",
       "      <td>G</td>\n",
       "      <td>2011–present</td>\n",
       "      <td>8.0</td>\n",
       "    </tr>\n",
       "    <tr>\n",
       "      <th>187</th>\n",
       "      <td>Germany</td>\n",
       "      <td>West Germany</td>\n",
       "      <td>Uwe Blab</td>\n",
       "      <td>C</td>\n",
       "      <td>1985–1990</td>\n",
       "      <td>5.0</td>\n",
       "    </tr>\n",
       "    <tr>\n",
       "      <th>268</th>\n",
       "      <td>Mexico</td>\n",
       "      <td>—</td>\n",
       "      <td>Jorge Gutiérrez</td>\n",
       "      <td>G</td>\n",
       "      <td>2014–2015;</td>\n",
       "      <td>3.0</td>\n",
       "    </tr>\n",
       "    <tr>\n",
       "      <th>265</th>\n",
       "      <td>Mali</td>\n",
       "      <td>—</td>\n",
       "      <td>Cheick Diallo*</td>\n",
       "      <td>F</td>\n",
       "      <td>2016–present</td>\n",
       "      <td>3.0</td>\n",
       "    </tr>\n",
       "    <tr>\n",
       "      <th>34</th>\n",
       "      <td>Australia</td>\n",
       "      <td>—</td>\n",
       "      <td>Ben Simmons*</td>\n",
       "      <td>F</td>\n",
       "      <td>2017–present</td>\n",
       "      <td>2.0</td>\n",
       "    </tr>\n",
       "    <tr>\n",
       "      <th>2</th>\n",
       "      <td>Argentina</td>\n",
       "      <td>—</td>\n",
       "      <td>Patricio Garino</td>\n",
       "      <td>G</td>\n",
       "      <td>2017</td>\n",
       "      <td>1.0</td>\n",
       "    </tr>\n",
       "    <tr>\n",
       "      <th>76</th>\n",
       "      <td>Canada</td>\n",
       "      <td>—</td>\n",
       "      <td>Ron Crevier</td>\n",
       "      <td>C</td>\n",
       "      <td>1985</td>\n",
       "      <td>1.0</td>\n",
       "    </tr>\n",
       "    <tr>\n",
       "      <th>236</th>\n",
       "      <td>Italy</td>\n",
       "      <td>—</td>\n",
       "      <td>Andrea Bargnani</td>\n",
       "      <td>F</td>\n",
       "      <td>2006–2016</td>\n",
       "      <td>10.0</td>\n",
       "    </tr>\n",
       "  </tbody>\n",
       "</table>\n",
       "</div>"
      ],
      "text/plain": [
       "           Nationality       Birthplace            Player  Pos        Career  \\\n",
       "123           Croatia    SFR Yugoslavia       Dino Rađa^   F/C     1993–1997   \n",
       "293   North Macedonia    SFR Yugoslavia       Pero Antić   F/C     2013–2015   \n",
       "386             Spain                 —     Ricky Rubio*     G  2011–present   \n",
       "187           Germany      West Germany         Uwe Blab     C     1985–1990   \n",
       "268            Mexico                 —  Jorge Gutiérrez     G   2014–2015;    \n",
       "265              Mali                 —   Cheick Diallo*     F  2016–present   \n",
       "34          Australia                 —     Ben Simmons*     F  2017–present   \n",
       "2           Argentina                 —  Patricio Garino     G          2017   \n",
       "76             Canada                 —      Ron Crevier     C          1985   \n",
       "236             Italy                 —  Andrea Bargnani     F     2006–2016   \n",
       "\n",
       "     Years  \n",
       "123    4.0  \n",
       "293    2.0  \n",
       "386    8.0  \n",
       "187    5.0  \n",
       "268    3.0  \n",
       "265    3.0  \n",
       "34     2.0  \n",
       "2      1.0  \n",
       "76     1.0  \n",
       "236   10.0  "
      ]
     },
     "execution_count": 33,
     "metadata": {},
     "output_type": "execute_result"
    }
   ],
   "source": [
    "intp.shape\n",
    "intp.index = pd.RangeIndex(len(intp))\n",
    "intp.sample(10)"
   ]
  },
  {
   "cell_type": "markdown",
   "metadata": {},
   "source": [
    "#### Checking which Names match with those from stats data frame"
   ]
  },
  {
   "cell_type": "code",
   "execution_count": 34,
   "metadata": {},
   "outputs": [
    {
     "data": {
      "text/html": [
       "<div>\n",
       "<style scoped>\n",
       "    .dataframe tbody tr th:only-of-type {\n",
       "        vertical-align: middle;\n",
       "    }\n",
       "\n",
       "    .dataframe tbody tr th {\n",
       "        vertical-align: top;\n",
       "    }\n",
       "\n",
       "    .dataframe thead th {\n",
       "        text-align: right;\n",
       "    }\n",
       "</style>\n",
       "<table border=\"1\" class=\"dataframe\">\n",
       "  <thead>\n",
       "    <tr style=\"text-align: right;\">\n",
       "      <th></th>\n",
       "      <th>Nationality</th>\n",
       "      <th>Birthplace</th>\n",
       "      <th>Player</th>\n",
       "      <th>Pos</th>\n",
       "      <th>Career</th>\n",
       "      <th>Years</th>\n",
       "    </tr>\n",
       "  </thead>\n",
       "  <tbody>\n",
       "    <tr>\n",
       "      <th>156</th>\n",
       "      <td>France</td>\n",
       "      <td>—</td>\n",
       "      <td>Tariq Abdul-Wahad</td>\n",
       "      <td>F</td>\n",
       "      <td>1997–2003</td>\n",
       "      <td>6.0</td>\n",
       "    </tr>\n",
       "  </tbody>\n",
       "</table>\n",
       "</div>"
      ],
      "text/plain": [
       "    Nationality Birthplace             Player Pos     Career  Years\n",
       "156     France           —  Tariq Abdul-Wahad   F  1997–2003    6.0"
      ]
     },
     "execution_count": 34,
     "metadata": {},
     "output_type": "execute_result"
    }
   ],
   "source": [
    "intp.loc[intp.Player.isin(stat.Player)]"
   ]
  },
  {
   "cell_type": "markdown",
   "metadata": {},
   "source": [
    "#### Only one player matches. The list from Wikipedia includes a trailing space and some other additional signs. Let's get rid of them"
   ]
  },
  {
   "cell_type": "code",
   "execution_count": 35,
   "metadata": {},
   "outputs": [],
   "source": [
    "intp['Player'] = intp['Player'].str.replace('[*^]', '')\n",
    "# intp['Player'] = intp['Player'].str.replace('^', '')\n",
    "intp['Player'] = np.where(intp.Player.str.endswith(' '), intp.Player.str[:-1], intp.Player)"
   ]
  },
  {
   "cell_type": "markdown",
   "metadata": {},
   "source": [
    "#### Decoding international letters"
   ]
  },
  {
   "cell_type": "code",
   "execution_count": 36,
   "metadata": {},
   "outputs": [],
   "source": [
    "intp['Player'] = intp['Player'].apply(lambda x: unidecode(x))"
   ]
  },
  {
   "cell_type": "code",
   "execution_count": 37,
   "metadata": {},
   "outputs": [
    {
     "data": {
      "text/plain": [
       "True     395\n",
       "False     25\n",
       "Name: Player, dtype: int64"
      ]
     },
     "execution_count": 37,
     "metadata": {},
     "output_type": "execute_result"
    }
   ],
   "source": [
    "intp.Player.isin(stat.Player).value_counts()"
   ]
  },
  {
   "cell_type": "markdown",
   "metadata": {},
   "source": [
    "#### Checking, which players still don't match to those from stats and played more than two seasons"
   ]
  },
  {
   "cell_type": "code",
   "execution_count": 38,
   "metadata": {},
   "outputs": [
    {
     "data": {
      "text/html": [
       "<div>\n",
       "<style scoped>\n",
       "    .dataframe tbody tr th:only-of-type {\n",
       "        vertical-align: middle;\n",
       "    }\n",
       "\n",
       "    .dataframe tbody tr th {\n",
       "        vertical-align: top;\n",
       "    }\n",
       "\n",
       "    .dataframe thead th {\n",
       "        text-align: right;\n",
       "    }\n",
       "</style>\n",
       "<table border=\"1\" class=\"dataframe\">\n",
       "  <thead>\n",
       "    <tr style=\"text-align: right;\">\n",
       "      <th></th>\n",
       "      <th>Nationality</th>\n",
       "      <th>Birthplace</th>\n",
       "      <th>Player</th>\n",
       "      <th>Pos</th>\n",
       "      <th>Career</th>\n",
       "      <th>Years</th>\n",
       "    </tr>\n",
       "  </thead>\n",
       "  <tbody>\n",
       "    <tr>\n",
       "      <th>41</th>\n",
       "      <td>Belgium</td>\n",
       "      <td>Zaire</td>\n",
       "      <td>Didier Mbenga</td>\n",
       "      <td>C</td>\n",
       "      <td>2004–2011</td>\n",
       "      <td>7.0</td>\n",
       "    </tr>\n",
       "    <tr>\n",
       "      <th>56</th>\n",
       "      <td>Brazil</td>\n",
       "      <td>—</td>\n",
       "      <td>Nene</td>\n",
       "      <td>F/C</td>\n",
       "      <td>2002–present</td>\n",
       "      <td>17.0</td>\n",
       "    </tr>\n",
       "    <tr>\n",
       "      <th>123</th>\n",
       "      <td>Croatia</td>\n",
       "      <td>SFR Yugoslavia</td>\n",
       "      <td>Dino Rada</td>\n",
       "      <td>F/C</td>\n",
       "      <td>1993–1997</td>\n",
       "      <td>4.0</td>\n",
       "    </tr>\n",
       "    <tr>\n",
       "      <th>201</th>\n",
       "      <td>Germany</td>\n",
       "      <td>West Germany</td>\n",
       "      <td>Christian Welp</td>\n",
       "      <td>C</td>\n",
       "      <td>1987–1990</td>\n",
       "      <td>3.0</td>\n",
       "    </tr>\n",
       "    <tr>\n",
       "      <th>301</th>\n",
       "      <td>Puerto Rico</td>\n",
       "      <td>—</td>\n",
       "      <td>Jose Juan Barea</td>\n",
       "      <td>G</td>\n",
       "      <td>2006–present</td>\n",
       "      <td>13.0</td>\n",
       "    </tr>\n",
       "    <tr>\n",
       "      <th>313</th>\n",
       "      <td>Russia</td>\n",
       "      <td>Soviet Union</td>\n",
       "      <td>Victor Khryapa</td>\n",
       "      <td>F</td>\n",
       "      <td>2004–2008</td>\n",
       "      <td>4.0</td>\n",
       "    </tr>\n",
       "    <tr>\n",
       "      <th>364</th>\n",
       "      <td>Slovenia</td>\n",
       "      <td>SFR Yugoslavia</td>\n",
       "      <td>Radoslav Nesterovic</td>\n",
       "      <td>C</td>\n",
       "      <td>1998–2010</td>\n",
       "      <td>12.0</td>\n",
       "    </tr>\n",
       "    <tr>\n",
       "      <th>409</th>\n",
       "      <td>Ukraine</td>\n",
       "      <td>Soviet Union</td>\n",
       "      <td>Slava Medvedenko</td>\n",
       "      <td>F</td>\n",
       "      <td>2000–2007</td>\n",
       "      <td>7.0</td>\n",
       "    </tr>\n",
       "  </tbody>\n",
       "</table>\n",
       "</div>"
      ],
      "text/plain": [
       "       Nationality       Birthplace               Player  Pos        Career  \\\n",
       "41        Belgium             Zaire        Didier Mbenga    C     2004–2011   \n",
       "56         Brazil                 —                 Nene  F/C  2002–present   \n",
       "123       Croatia    SFR Yugoslavia            Dino Rada  F/C     1993–1997   \n",
       "201       Germany      West Germany       Christian Welp    C     1987–1990   \n",
       "301   Puerto Rico                 —      Jose Juan Barea    G  2006–present   \n",
       "313        Russia      Soviet Union       Victor Khryapa    F     2004–2008   \n",
       "364      Slovenia    SFR Yugoslavia  Radoslav Nesterovic    C     1998–2010   \n",
       "409       Ukraine      Soviet Union     Slava Medvedenko    F     2000–2007   \n",
       "\n",
       "     Years  \n",
       "41     7.0  \n",
       "56    17.0  \n",
       "123    4.0  \n",
       "201    3.0  \n",
       "301   13.0  \n",
       "313    4.0  \n",
       "364   12.0  \n",
       "409    7.0  "
      ]
     },
     "execution_count": 38,
     "metadata": {},
     "output_type": "execute_result"
    }
   ],
   "source": [
    "# Note: Never forget parenthesses when using multiple conditions\n",
    "intp.loc[(~intp.Player.isin(stat.Player)) & (intp.Years > 2.0)]"
   ]
  },
  {
   "cell_type": "markdown",
   "metadata": {},
   "source": [
    "Adding those manually\n",
    "\n",
    "<span style=\"color:red\">Question: Can I do something like this or is it considered to be a bad practice? </span>"
   ]
  },
  {
   "cell_type": "code",
   "execution_count": 39,
   "metadata": {},
   "outputs": [
    {
     "data": {
      "text/plain": [
       "True     403\n",
       "False     17\n",
       "Name: Player, dtype: int64"
      ]
     },
     "execution_count": 39,
     "metadata": {},
     "output_type": "execute_result"
    }
   ],
   "source": [
    "intp.loc[intp.Player == 'Nene', 'Player'] = 'Nene Hilario'\n",
    "intp.loc[intp.Player == 'Radoslav Nesterovic', 'Player'] = 'Rasho Nesterovic'\n",
    "intp.loc[intp.Player == 'Jose Juan Barea', 'Player'] = 'J.J. Barea'\n",
    "intp.loc[intp.Player == 'Didier Mbenga', 'Player'] = 'Didier Ilunga-Mbenga'\n",
    "intp.loc[intp.Player == 'Slava Medvedenko', 'Player'] = 'Stanislav Medvedenko'\n",
    "intp.loc[intp.Player == 'Jakob Poltl', 'Player'] = 'Jakob Poeltl'\n",
    "intp.loc[intp.Player == 'Victor Khryapa', 'Player'] = 'Viktor Khryapa'\n",
    "intp.loc[intp.Player == 'Dino Rada', 'Player'] = 'Dino Radja'\n",
    "intp.loc[intp.Player == 'Luc Mbah a Moute', 'Player'] = 'Luc Mbah'\n",
    "intp.loc[intp.Player == 'Christian Welp', 'Player'] = 'Chris Welp'\n",
    "\n",
    "intp.Player.isin(stat.Player).value_counts()\n",
    "# intp.loc[~intp.Player.isin(stat.Player)].sample(20)"
   ]
  },
  {
   "cell_type": "markdown",
   "metadata": {},
   "source": [
    "So at this point there are international Players, that will be ignored. Non of them has played more than 2 seasons in the NBA though"
   ]
  },
  {
   "cell_type": "markdown",
   "metadata": {},
   "source": [
    "# Results\n",
    "\n",
    "Showing how the numbers changed over the years"
   ]
  },
  {
   "cell_type": "markdown",
   "metadata": {},
   "source": [
    "#### Creating the Data Frame with statistics only for international Players"
   ]
  },
  {
   "cell_type": "code",
   "execution_count": 40,
   "metadata": {},
   "outputs": [
    {
     "data": {
      "text/plain": [
       "(2287, 51)"
      ]
     },
     "execution_count": 40,
     "metadata": {},
     "output_type": "execute_result"
    }
   ],
   "source": [
    "stati = stat.loc[stat.Player.isin(intp.Player)]\n",
    "stati.shape"
   ]
  },
  {
   "cell_type": "markdown",
   "metadata": {},
   "source": [
    "#### Grouping all the stats, and international players stats by year"
   ]
  },
  {
   "cell_type": "code",
   "execution_count": 41,
   "metadata": {},
   "outputs": [],
   "source": [
    "stat_by_year = stat.groupby(stat.Year).sum()\n",
    "stati_by_year = stati.groupby(stati.Year).sum()"
   ]
  },
  {
   "cell_type": "markdown",
   "metadata": {},
   "source": [
    "#### Number of international players per year"
   ]
  },
  {
   "cell_type": "code",
   "execution_count": 42,
   "metadata": {},
   "outputs": [
    {
     "data": {
      "image/png": "[encoded data removed]",
      "text/plain": [
       "<Figure size 1080x360 with 1 Axes>"
      ]
     },
     "metadata": {
      "needs_background": "light"
     },
     "output_type": "display_data"
    }
   ],
   "source": [
    "stati.Player.groupby(stati.Year).count().plot();\n",
    "plt.ylabel('International Players Total');\n",
    "plt.xlabel('Year');"
   ]
  },
  {
   "cell_type": "markdown",
   "metadata": {},
   "source": [
    "### Comparing nba stat totals to international stat totals"
   ]
  },
  {
   "cell_type": "markdown",
   "metadata": {},
   "source": [
    "#### Points"
   ]
  },
  {
   "cell_type": "code",
   "execution_count": 43,
   "metadata": {},
   "outputs": [
    {
     "data": {
      "image/png": "[encoded data removed]",
      "text/plain": [
       "<Figure size 1080x360 with 1 Axes>"
      ]
     },
     "metadata": {
      "needs_background": "light"
     },
     "output_type": "display_data"
    }
   ],
   "source": [
    "plt.plot(stat_by_year.index,stat_by_year.PTS);\n",
    "plt.plot(stati_by_year.index,stati_by_year.PTS);\n",
    "plt.ylabel('Total Points');\n",
    "plt.xlabel('Year');\n",
    "plt.legend(['Totals', 'non-US']);"
   ]
  },
  {
   "cell_type": "markdown",
   "metadata": {},
   "source": [
    "#### Minutes Played"
   ]
  },
  {
   "cell_type": "code",
   "execution_count": 44,
   "metadata": {},
   "outputs": [
    {
     "data": {
      "image/png": "[encoded data removed]",
      "text/plain": [
       "<Figure size 1080x360 with 1 Axes>"
      ]
     },
     "metadata": {
      "needs_background": "light"
     },
     "output_type": "display_data"
    }
   ],
   "source": [
    "plt.plot(stat_by_year.index,stat_by_year.MP);\n",
    "plt.plot(stati_by_year.index,stati_by_year.MP);\n",
    "plt.ylabel('Minutes Played');\n",
    "plt.xlabel('Year');\n",
    "plt.legend(['Totals', 'non-US']);"
   ]
  },
  {
   "cell_type": "markdown",
   "metadata": {},
   "source": [
    "#### Blocks"
   ]
  },
  {
   "cell_type": "code",
   "execution_count": 45,
   "metadata": {},
   "outputs": [
    {
     "data": {
      "image/png": "[encoded data removed]",
      "text/plain": [
       "<Figure size 1080x360 with 1 Axes>"
      ]
     },
     "metadata": {
      "needs_background": "light"
     },
     "output_type": "display_data"
    }
   ],
   "source": [
    "plt.plot(stat_by_year.index,stat_by_year.BLK);\n",
    "plt.plot(stati_by_year.index,stati_by_year.BLK);\n",
    "plt.ylabel('Total Blocks');\n",
    "plt.xlabel('Year');\n",
    "plt.legend(['Totals', 'non-US']);"
   ]
  },
  {
   "cell_type": "markdown",
   "metadata": {},
   "source": [
    "#### Made 3 Point Shots"
   ]
  },
  {
   "cell_type": "code",
   "execution_count": 46,
   "metadata": {},
   "outputs": [
    {
     "data": {
      "image/png": "[encoded data removed]",
      "text/plain": [
       "<Figure size 1080x360 with 1 Axes>"
      ]
     },
     "metadata": {
      "needs_background": "light"
     },
     "output_type": "display_data"
    }
   ],
   "source": [
    "plt.plot(stat_by_year.index,stat_by_year['3P']);\n",
    "plt.plot(stati_by_year.index,stati_by_year['3P']);\n",
    "plt.ylabel('3 Pointers Made');\n",
    "plt.xlabel('Year');\n",
    "plt.legend(['Totals', 'non-US']);"
   ]
  },
  {
   "cell_type": "markdown",
   "metadata": {},
   "source": [
    "#### Rebounds"
   ]
  },
  {
   "cell_type": "code",
   "execution_count": 47,
   "metadata": {},
   "outputs": [
    {
     "data": {
      "image/png": "[encoded data removed]",
      "text/plain": [
       "<Figure size 1080x360 with 1 Axes>"
      ]
     },
     "metadata": {
      "needs_background": "light"
     },
     "output_type": "display_data"
    }
   ],
   "source": [
    "plt.plot(stat_by_year.index,stat_by_year.TRB);\n",
    "plt.plot(stati_by_year.index,stati_by_year.TRB);\n",
    "plt.ylabel('Total Rebounds');\n",
    "plt.xlabel('Year');\n",
    "plt.legend(['Totals', 'non-US']);"
   ]
  },
  {
   "cell_type": "markdown",
   "metadata": {},
   "source": [
    "#### Assists"
   ]
  },
  {
   "cell_type": "code",
   "execution_count": 48,
   "metadata": {},
   "outputs": [
    {
     "data": {
      "image/png": "[encoded data removed]",
      "text/plain": [
       "<Figure size 1080x360 with 1 Axes>"
      ]
     },
     "metadata": {
      "needs_background": "light"
     },
     "output_type": "display_data"
    }
   ],
   "source": [
    "plt.plot(stat_by_year.index,stat_by_year.AST);\n",
    "plt.plot(stati_by_year.index,stati_by_year.AST);\n",
    "plt.ylabel('Total Assists');\n",
    "plt.xlabel('Year');\n",
    "plt.legend(['Totals', 'non-US']);"
   ]
  },
  {
   "cell_type": "markdown",
   "metadata": {},
   "source": [
    "# Conclusions"
   ]
  },
  {
   "cell_type": "markdown",
   "metadata": {},
   "source": [
    "I tried to show, how the impact of nba players NOT born in USA changed over the years. I was quite disappointed with the results, because I did not find any huge dependencies or rapid improvement.\n",
    "\n",
    "The totals of every stats are growing, but it is caused by the growing number of International Players is the NBA. "
   ]
  }
 ],
 "metadata": {
  "kernelspec": {
   "display_name": "Python 3",
   "language": "python",
   "name": "python3"
  },
  "language_info": {
   "codemirror_mode": {
    "name": "ipython",
    "version": 3
   },
   "file_extension": ".py",
   "mimetype": "text/x-python",
   "name": "python",
   "nbconvert_exporter": "python",
   "pygments_lexer": "ipython3",
   "version": "3.7.3"
  }
 },
 "nbformat": 4,
 "nbformat_minor": 2
}
